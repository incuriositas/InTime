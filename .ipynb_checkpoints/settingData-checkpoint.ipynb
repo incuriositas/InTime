{
 "cells": [
  {
   "cell_type": "code",
   "execution_count": 1,
   "metadata": {},
   "outputs": [
    {
     "name": "stdout",
     "output_type": "stream",
     "text": [
      "importing Jupyter notebook from IntimeLibrary.ipynb\n",
      "importing Jupyter notebook from FlieLibrary.ipynb\n"
     ]
    },
    {
     "name": "stderr",
     "output_type": "stream",
     "text": [
      "c:\\users\\kss09\\appdata\\local\\programs\\python\\python37\\lib\\site-packages\\pandas\\core\\frame.py:7123: FutureWarning: Sorting because non-concatenation axis is not aligned. A future version\n",
      "of pandas will change to not sort by default.\n",
      "\n",
      "To accept the future behavior, pass 'sort=False'.\n",
      "\n",
      "To retain the current behavior and silence the warning, pass 'sort=True'.\n",
      "\n",
      "  sort=sort,\n"
     ]
    }
   ],
   "source": [
    "import import_ipynb\n",
    "import IntimeLibrary as il\n",
    "import FlieLibrary as fl\n",
    "import pandas as pd\n",
    "import numpy as np\n",
    "from urllib.request import urlopen\n",
    "from xml.etree.ElementTree import parse"
   ]
  },
  {
   "cell_type": "code",
   "execution_count": 2,
   "metadata": {},
   "outputs": [],
   "source": [
    "#None값 열 제거\n",
    "# tempDt = fl.depart_data['delayTime']\n",
    "# fl.depart_data.dropna(axis=1, inplace=True)\n",
    "# fl.depart_data['delayTime'] = tempDt"
   ]
  },
  {
   "cell_type": "code",
   "execution_count": 3,
   "metadata": {},
   "outputs": [],
   "source": [
    "# fl.depart_data.head()"
   ]
  },
  {
   "cell_type": "code",
   "execution_count": 4,
   "metadata": {},
   "outputs": [],
   "source": [
    "# fl.depart_data.drop([\"time\", \"날짜\"],axis=1, inplace=True)"
   ]
  },
  {
   "cell_type": "code",
   "execution_count": 5,
   "metadata": {},
   "outputs": [],
   "source": [
    "# settingData = pd.DataFrame(fl.depart_data)\n",
    "# settingData.to_csv('settingData.csv', encoding='cp949')"
   ]
  },
  {
   "cell_type": "code",
   "execution_count": 6,
   "metadata": {},
   "outputs": [],
   "source": [
    "df = pd.read_csv(\"settingData.csv\", encoding='cp949')"
   ]
  },
  {
   "cell_type": "code",
   "execution_count": 7,
   "metadata": {},
   "outputs": [],
   "source": [
    "# CJU_people = {}\n",
    "# CJU_congest = {}\n",
    "# GMP_people = {}\n",
    "# GMP_congest = {}"
   ]
  },
  {
   "cell_type": "code",
   "execution_count": 8,
   "metadata": {},
   "outputs": [],
   "source": [
    "key = ''\n",
    "def get_person(airport,Date):\n",
    "    for p in range(1,3):\n",
    "        u = urlopen('http://openapi.airport.co.kr/service/rest/dailyExpectPassenger/dailyExpectPassenger?schDate='+str(Date)+'&schAirport='+airport+'&schTof=D&ServiceKey='+key+'&pageNo='+str(p))\n",
    "        doc = parse(u)\n",
    "        root = doc.getroot()\n",
    "\n",
    "        if airport=='CJU':\n",
    "            for item in root.iter(\"item\"):\n",
    "                TM = item.findtext('sdt')+item.findtext(\"hh\")\n",
    "                CJU_people[TM] = item.findtext('pct')\n",
    "                CJU_congest[TM] = item.findtext('congestYn')\n",
    "        elif airport=='GMP':\n",
    "            for item in root.iter(\"item\"):\n",
    "                TM = item.findtext('sdt')+item.findtext(\"hh\")\n",
    "                GMP_people[TM] = item.findtext('pct')\n",
    "                GMP_congest[TM] = item.findtext('congestYn')"
   ]
  },
  {
   "cell_type": "code",
   "execution_count": 9,
   "metadata": {},
   "outputs": [],
   "source": [
    "# import time"
   ]
  },
  {
   "cell_type": "code",
   "execution_count": 10,
   "metadata": {},
   "outputs": [],
   "source": [
    "# Date = 20181000\n",
    "# i = 0\n",
    "# end_date = [31,30,31,31,28,31,30,31,30,31,31,30]\n",
    "# airport = ['CJU','GMP']\n",
    "\n",
    "# for i in range(len(airport)):\n",
    "    \n",
    "#     airport = airport[i]\n",
    "    \n",
    "#     while(Date<2019080123): \n",
    "#         day = Date%100\n",
    "#         month = ((Date%10000)-day)/100\n",
    "#         year = (Date-(Date%10000))/10000\n",
    "#         day = day + 1\n",
    "#         if day > end_date[i]:\n",
    "#             day = 1\n",
    "#             month = month + 1\n",
    "#             i = i+1\n",
    "#             if month == 13:\n",
    "#                 year = year + 1\n",
    "#                 month = 1\n",
    "#                 day = 1\n",
    "#         Date = int((year*10000)+(month*100)+day)\n",
    "\n",
    "#         get_person(airport,Date)\n",
    "#         time.sleep(1)"
   ]
  },
  {
   "cell_type": "code",
   "execution_count": 11,
   "metadata": {},
   "outputs": [],
   "source": [
    "# cju_person = pd.DataFrame()\n",
    "# gmp_person = pd.DataFrame()"
   ]
  },
  {
   "cell_type": "code",
   "execution_count": 12,
   "metadata": {},
   "outputs": [],
   "source": [
    "# cju_person['TM'] = list(CJU_people.keys())\n",
    "# cju_person['cju_people'] = list(CJU_people.values())\n",
    "# cju_person['cju_congest'] = list(CJU_congest.values())\n",
    "# cju_person['Origin'] = '제주공항'"
   ]
  },
  {
   "cell_type": "code",
   "execution_count": 13,
   "metadata": {},
   "outputs": [],
   "source": [
    "# gmp_person['TM'] = list(GMP_people.keys())\n",
    "# gmp_person['gmp_people'] = list(GMP_people.values())\n",
    "# gmp_person['gmp_congest'] = list(GMP_congest.values())\n",
    "# gmp_person['Origin'] = '김포공항'"
   ]
  },
  {
   "cell_type": "code",
   "execution_count": 14,
   "metadata": {},
   "outputs": [],
   "source": [
    "gp = pd.read_csv(\"gmp_person.csv\", encoding='cp949')"
   ]
  },
  {
   "cell_type": "code",
   "execution_count": 15,
   "metadata": {},
   "outputs": [],
   "source": [
    "cp = pd.read_csv(\"cju_person.csv\", encoding='cp949')"
   ]
  },
  {
   "cell_type": "code",
   "execution_count": 16,
   "metadata": {},
   "outputs": [
    {
     "data": {
      "text/plain": [
       "2019051519    1\n",
       "2019070606    1\n",
       "2019091121    1\n",
       "2018122418    1\n",
       "2019052212    1\n",
       "             ..\n",
       "2019030919    1\n",
       "2019020318    1\n",
       "2019040307    1\n",
       "2018102611    1\n",
       "2019051521    1\n",
       "Name: TM, Length: 5840, dtype: int64"
      ]
     },
     "execution_count": 16,
     "metadata": {},
     "output_type": "execute_result"
    }
   ],
   "source": [
    "gp['TM'].value_counts()"
   ]
  },
  {
   "cell_type": "code",
   "execution_count": 17,
   "metadata": {},
   "outputs": [
    {
     "data": {
      "text/plain": [
       "2019051519    1\n",
       "2019070606    1\n",
       "2019091121    1\n",
       "2018122418    1\n",
       "2019052212    1\n",
       "             ..\n",
       "2019030919    1\n",
       "2019020318    1\n",
       "2019040307    1\n",
       "2018102611    1\n",
       "2019051521    1\n",
       "Name: TM, Length: 5841, dtype: int64"
      ]
     },
     "execution_count": 17,
     "metadata": {},
     "output_type": "execute_result"
    }
   ],
   "source": [
    "cp['TM'].value_counts()"
   ]
  },
  {
   "cell_type": "code",
   "execution_count": 18,
   "metadata": {},
   "outputs": [],
   "source": [
    "dt = df[\"TM\"].unique()"
   ]
  },
  {
   "cell_type": "code",
   "execution_count": 19,
   "metadata": {},
   "outputs": [],
   "source": [
    "d = pd.concat([gp['TM'],cp['TM']]).drop_duplicates(keep=False)\n",
    "gd = pd.concat([gp['TM'],df['TM']]).drop_duplicates(keep=False)\n",
    "cd = pd.concat([cp['TM'],df['TM']]).drop_duplicates(keep=False)"
   ]
  },
  {
   "cell_type": "code",
   "execution_count": 20,
   "metadata": {},
   "outputs": [
    {
     "data": {
      "text/plain": [
       "80      2018100606\n",
       "95      2018100622\n",
       "3440    2019050322\n",
       "Name: TM, dtype: int64"
      ]
     },
     "execution_count": 20,
     "metadata": {},
     "output_type": "execute_result"
    }
   ],
   "source": [
    "d"
   ]
  },
  {
   "cell_type": "code",
   "execution_count": 23,
   "metadata": {},
   "outputs": [
    {
     "data": {
      "text/plain": [
       "Unnamed: 0             80\n",
       "TM             2018100607\n",
       "cju_people            115\n",
       "cju_congest             N\n",
       "Origin               제주공항\n",
       "Name: 80, dtype: object"
      ]
     },
     "execution_count": 23,
     "metadata": {},
     "output_type": "execute_result"
    }
   ],
   "source": [
    "cp.loc[80]\n",
    "#cp['TM'] = 2018100606 데이터 없음"
   ]
  },
  {
   "cell_type": "code",
   "execution_count": 24,
   "metadata": {},
   "outputs": [
    {
     "data": {
      "text/plain": [
       "Unnamed: 0             80\n",
       "TM             2018100606\n",
       "gmp_people            984\n",
       "gmp_congest             N\n",
       "Origin               김포공항\n",
       "Name: 80, dtype: object"
      ]
     },
     "execution_count": 24,
     "metadata": {},
     "output_type": "execute_result"
    }
   ],
   "source": [
    "gp.loc[80]"
   ]
  },
  {
   "cell_type": "code",
   "execution_count": 25,
   "metadata": {},
   "outputs": [
    {
     "data": {
      "text/plain": [
       "Unnamed: 0             95\n",
       "TM             2018100622\n",
       "cju_people            189\n",
       "cju_congest             N\n",
       "Origin               제주공항\n",
       "Name: 95, dtype: object"
      ]
     },
     "execution_count": 25,
     "metadata": {},
     "output_type": "execute_result"
    }
   ],
   "source": [
    "cp.loc[95]"
   ]
  },
  {
   "cell_type": "code",
   "execution_count": 26,
   "metadata": {},
   "outputs": [
    {
     "data": {
      "text/plain": [
       "Unnamed: 0             95\n",
       "TM             2018100621\n",
       "gmp_people            289\n",
       "gmp_congest             N\n",
       "Origin               김포공항\n",
       "Name: 95, dtype: object"
      ]
     },
     "execution_count": 26,
     "metadata": {},
     "output_type": "execute_result"
    }
   ],
   "source": [
    "gp.loc[95]\n",
    "#gp['TM'] = 2018100622 데이터 없음"
   ]
  },
  {
   "cell_type": "code",
   "execution_count": 27,
   "metadata": {},
   "outputs": [
    {
     "data": {
      "text/plain": [
       "Unnamed: 0           3440\n",
       "TM             2019050322\n",
       "cju_people            200\n",
       "cju_congest             N\n",
       "Origin               제주공항\n",
       "Name: 3440, dtype: object"
      ]
     },
     "execution_count": 27,
     "metadata": {},
     "output_type": "execute_result"
    }
   ],
   "source": [
    "cp.loc[3440]"
   ]
  },
  {
   "cell_type": "code",
   "execution_count": 28,
   "metadata": {},
   "outputs": [
    {
     "data": {
      "text/plain": [
       "Unnamed: 0           3440\n",
       "TM             2019050406\n",
       "gmp_people           3263\n",
       "gmp_congest             Y\n",
       "Origin               김포공항\n",
       "Name: 3440, dtype: object"
      ]
     },
     "execution_count": 28,
     "metadata": {},
     "output_type": "execute_result"
    }
   ],
   "source": [
    "gp.loc[3440]\n",
    "#gp['TM'] = 2019050322 데이터 없음"
   ]
  },
  {
   "cell_type": "code",
   "execution_count": 29,
   "metadata": {},
   "outputs": [
    {
     "data": {
      "text/plain": [
       "2018101913    41\n",
       "2019071015    41\n",
       "2018112114    40\n",
       "2018101914    40\n",
       "2019020614    40\n",
       "              ..\n",
       "2019040206    10\n",
       "2019072007    10\n",
       "2018100607     8\n",
       "2019072006     4\n",
       "2018100606     4\n",
       "Name: TM, Length: 5083, dtype: int64"
      ]
     },
     "execution_count": 29,
     "metadata": {},
     "output_type": "execute_result"
    }
   ],
   "source": [
    "df['TM'].value_counts()"
   ]
  },
  {
   "cell_type": "code",
   "execution_count": 30,
   "metadata": {},
   "outputs": [
    {
     "ename": "ValueError",
     "evalue": "The truth value of a Series is ambiguous. Use a.empty, a.bool(), a.item(), a.any() or a.all().",
     "output_type": "error",
     "traceback": [
      "\u001b[1;31m---------------------------------------------------------------------------\u001b[0m",
      "\u001b[1;31mValueError\u001b[0m                                Traceback (most recent call last)",
      "\u001b[1;32m<ipython-input-30-2c0641c6e912>\u001b[0m in \u001b[0;36m<module>\u001b[1;34m\u001b[0m\n\u001b[1;32m----> 1\u001b[1;33m \u001b[1;32mif\u001b[0m \u001b[0mdf\u001b[0m\u001b[1;33m[\u001b[0m\u001b[1;34m'ORIGIN'\u001b[0m\u001b[1;33m]\u001b[0m\u001b[1;33m==\u001b[0m\u001b[1;34m'제주공항'\u001b[0m\u001b[1;33m:\u001b[0m\u001b[1;33m\u001b[0m\u001b[1;33m\u001b[0m\u001b[0m\n\u001b[0m\u001b[0;32m      2\u001b[0m     \u001b[0mdf\u001b[0m\u001b[1;33m[\u001b[0m\u001b[1;34m'people'\u001b[0m\u001b[1;33m]\u001b[0m \u001b[1;33m=\u001b[0m \u001b[0mdf\u001b[0m\u001b[1;33m.\u001b[0m\u001b[0mTM\u001b[0m\u001b[1;33m.\u001b[0m\u001b[0mapply\u001b[0m\u001b[1;33m(\u001b[0m\u001b[1;32mlambda\u001b[0m \u001b[0mx\u001b[0m\u001b[1;33m:\u001b[0m \u001b[0mint\u001b[0m\u001b[1;33m(\u001b[0m\u001b[0mCJU_people\u001b[0m\u001b[1;33m[\u001b[0m\u001b[0mstr\u001b[0m\u001b[1;33m(\u001b[0m\u001b[0mx\u001b[0m\u001b[1;33m)\u001b[0m\u001b[1;33m]\u001b[0m\u001b[1;33m)\u001b[0m\u001b[1;33m)\u001b[0m\u001b[1;33m\u001b[0m\u001b[1;33m\u001b[0m\u001b[0m\n\u001b[0;32m      3\u001b[0m     \u001b[0mdf\u001b[0m\u001b[1;33m[\u001b[0m\u001b[1;34m'congest'\u001b[0m\u001b[1;33m]\u001b[0m \u001b[1;33m=\u001b[0m \u001b[0mdf\u001b[0m\u001b[1;33m.\u001b[0m\u001b[0mTM\u001b[0m\u001b[1;33m.\u001b[0m\u001b[0mapply\u001b[0m\u001b[1;33m(\u001b[0m\u001b[1;32mlambda\u001b[0m \u001b[0mx\u001b[0m\u001b[1;33m:\u001b[0m \u001b[0mint\u001b[0m\u001b[1;33m(\u001b[0m\u001b[0mCJU_congest\u001b[0m\u001b[1;33m[\u001b[0m\u001b[0mstr\u001b[0m\u001b[1;33m(\u001b[0m\u001b[0mx\u001b[0m\u001b[1;33m)\u001b[0m\u001b[1;33m]\u001b[0m\u001b[1;33m)\u001b[0m\u001b[1;33m)\u001b[0m\u001b[1;33m\u001b[0m\u001b[1;33m\u001b[0m\u001b[0m\n\u001b[0;32m      4\u001b[0m \u001b[1;32melif\u001b[0m \u001b[0mdf\u001b[0m\u001b[1;33m[\u001b[0m\u001b[1;34m'ORIGIN'\u001b[0m\u001b[1;33m]\u001b[0m\u001b[1;33m==\u001b[0m\u001b[1;34m'김포공항'\u001b[0m\u001b[1;33m:\u001b[0m\u001b[1;33m\u001b[0m\u001b[1;33m\u001b[0m\u001b[0m\n\u001b[0;32m      5\u001b[0m     \u001b[0mdf\u001b[0m\u001b[1;33m[\u001b[0m\u001b[1;34m'people'\u001b[0m\u001b[1;33m]\u001b[0m \u001b[1;33m=\u001b[0m \u001b[0mdf\u001b[0m\u001b[1;33m.\u001b[0m\u001b[0mTM\u001b[0m\u001b[1;33m.\u001b[0m\u001b[0mapply\u001b[0m\u001b[1;33m(\u001b[0m\u001b[1;32mlambda\u001b[0m \u001b[0mx\u001b[0m\u001b[1;33m:\u001b[0m \u001b[0mint\u001b[0m\u001b[1;33m(\u001b[0m\u001b[0mGMP_people\u001b[0m\u001b[1;33m[\u001b[0m\u001b[0mstr\u001b[0m\u001b[1;33m(\u001b[0m\u001b[0mx\u001b[0m\u001b[1;33m)\u001b[0m\u001b[1;33m]\u001b[0m\u001b[1;33m)\u001b[0m\u001b[1;33m)\u001b[0m\u001b[1;33m\u001b[0m\u001b[1;33m\u001b[0m\u001b[0m\n",
      "\u001b[1;32mc:\\users\\kss09\\appdata\\local\\programs\\python\\python37\\lib\\site-packages\\pandas\\core\\generic.py\u001b[0m in \u001b[0;36m__nonzero__\u001b[1;34m(self)\u001b[0m\n\u001b[0;32m   1553\u001b[0m             \u001b[1;34m\"The truth value of a {0} is ambiguous. \"\u001b[0m\u001b[1;33m\u001b[0m\u001b[1;33m\u001b[0m\u001b[0m\n\u001b[0;32m   1554\u001b[0m             \"Use a.empty, a.bool(), a.item(), a.any() or a.all().\".format(\n\u001b[1;32m-> 1555\u001b[1;33m                 \u001b[0mself\u001b[0m\u001b[1;33m.\u001b[0m\u001b[0m__class__\u001b[0m\u001b[1;33m.\u001b[0m\u001b[0m__name__\u001b[0m\u001b[1;33m\u001b[0m\u001b[1;33m\u001b[0m\u001b[0m\n\u001b[0m\u001b[0;32m   1556\u001b[0m             )\n\u001b[0;32m   1557\u001b[0m         )\n",
      "\u001b[1;31mValueError\u001b[0m: The truth value of a Series is ambiguous. Use a.empty, a.bool(), a.item(), a.any() or a.all()."
     ]
    }
   ],
   "source": [
    "if df['ORIGIN']=='제주공항':\n",
    "    df['people'] = df.TM.apply(lambda x: int(CJU_people[str(x)]))\n",
    "    df['congest'] = df.TM.apply(lambda x: int(CJU_congest[str(x)]))\n",
    "elif df['ORIGIN']=='김포공항':\n",
    "    df['people'] = df.TM.apply(lambda x: int(GMP_people[str(x)]))\n",
    "    df['congest'] = df.TM.apply(lambda x: int(GMP_congest[str(x)]))"
   ]
  },
  {
   "cell_type": "code",
   "execution_count": 31,
   "metadata": {},
   "outputs": [],
   "source": [
    "# gmp_people_data = pd.DataFrame(gmp_person)\n",
    "# gmp_people_data.to_csv('gmp_person.csv', encoding='cp949')"
   ]
  },
  {
   "cell_type": "code",
   "execution_count": 32,
   "metadata": {},
   "outputs": [],
   "source": [
    "# cju_people_data = pd.DataFrame(cju_person)\n",
    "# cju_people_data.to_csv('cju_person.csv', encoding='cp949')"
   ]
  }
 ],
 "metadata": {
  "kernelspec": {
   "display_name": "Python 3",
   "language": "python",
   "name": "python3"
  },
  "language_info": {
   "codemirror_mode": {
    "name": "ipython",
    "version": 3
   },
   "file_extension": ".py",
   "mimetype": "text/x-python",
   "name": "python",
   "nbconvert_exporter": "python",
   "pygments_lexer": "ipython3",
   "version": "3.7.4"
  }
 },
 "nbformat": 4,
 "nbformat_minor": 4
}
