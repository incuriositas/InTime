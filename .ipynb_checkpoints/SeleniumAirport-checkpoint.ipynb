{
 "cells": [
  {
   "cell_type": "code",
   "execution_count": 1,
   "metadata": {},
   "outputs": [],
   "source": [
    "# -*- coding: utf-8 -*-\n",
    "from selenium import webdriver\n",
    "from selenium.webdriver.common.keys import Keys\n",
    "import pandas as pd"
   ]
  },
  {
   "cell_type": "code",
   "execution_count": 2,
   "metadata": {},
   "outputs": [],
   "source": [
    "driver = webdriver.Chrome('C:/chromedriver.exe')\n",
    "driver.get(\"http://www.airportal.go.kr/life/airinfo/RbHanFrm.jsp\")"
   ]
  },
  {
   "cell_type": "code",
   "execution_count": 3,
   "metadata": {},
   "outputs": [],
   "source": [
    "#날짜 선택\n",
    "def setDate(datevalue):\n",
    "    date = driver.find_element_by_xpath('//*[@id=\"current_date\"]')\n",
    "    date.click()\n",
    "    date.clear()\n",
    "    date.click()\n",
    "    date.send_keys(str(datevalue))"
   ]
  },
  {
   "cell_type": "code",
   "execution_count": 4,
   "metadata": {},
   "outputs": [],
   "source": [
    "#공항 선택 : 김포(2) 제주(8)\n",
    "def setAirport(airportvalue):\n",
    "    airport = driver.find_element_by_xpath('/html/body/form/table/tbody/tr/td[2]/table/tbody/tr[3]/td/table/tbody/tr[2]/td/table/tbody/tr[1]/td[4]/span/select/option['+str(airportvalue)+']').click()"
   ]
  },
  {
   "cell_type": "code",
   "execution_count": 5,
   "metadata": {},
   "outputs": [],
   "source": [
    "#구분 선택 : 도착(0),출발(1) 클릭\n",
    "def setDivision(d):\n",
    "    if d==0:\n",
    "        path = '/html/body/form/table/tbody/tr/td[2]/table/tbody/tr[3]/td/table/tbody/tr[2]/td/table/tbody/tr[1]/td[2]/input[1]'\n",
    "    else:\n",
    "        path = '/html/body/form/table/tbody/tr/td[2]/table/tbody/tr[3]/td/table/tbody/tr[2]/td/table/tbody/tr[1]/td[2]/input[2]'\n",
    "        \n",
    "    driver.find_element_by_xpath(path).click()"
   ]
  },
  {
   "cell_type": "code",
   "execution_count": 6,
   "metadata": {},
   "outputs": [],
   "source": [
    "#검색버튼 클릭\n",
    "def Search():\n",
    "    driver.find_element_by_xpath(\"/html/body/form/table/tbody/tr/td[2]/table/tbody/tr[3]/td/table/tbody/tr[2]/td/table/tbody/tr[2]/td[4]/a/img\").click()"
   ]
  },
  {
   "cell_type": "code",
   "execution_count": 7,
   "metadata": {},
   "outputs": [],
   "source": [
    "#한번에 데이터 검색\n",
    "def Data(d,airportvalue,date):\n",
    "    #d=0이면 도착\n",
    "    setDivision(d)\n",
    "    #airportvalue==2 : 김포 or airportvalue==8 : 제주 \n",
    "    setAirport(airportvalue)\n",
    "    setDate(date)\n",
    "    Search()"
   ]
  },
  {
   "cell_type": "code",
   "execution_count": 8,
   "metadata": {},
   "outputs": [],
   "source": [
    "#검색한 데이터 가져오기\n",
    "FlightData = list()\n",
    "def Run(Date):\n",
    "    Data(1,8,Date)\n",
    "    result = driver.find_element_by_xpath('/html/body/form/table/tbody/tr/td[2]/table/tbody/tr[5]/td/iframe')\n",
    "    driver.switch_to_frame(result)\n",
    "    FlightData.append([[Date]+i.split() for i in driver.find_element_by_tag_name(\"table\").text.split('\\n')])\n",
    "    driver.switch_to_default_content()"
   ]
  },
  {
   "cell_type": "code",
   "execution_count": 9,
   "metadata": {},
   "outputs": [],
   "source": [
    "#18년도 10월 - 19년도 9월\n",
    "end_date = [31,30,31,31,28,31,30,31,30,31,31,30]"
   ]
  },
  {
   "cell_type": "code",
   "execution_count": 10,
   "metadata": {},
   "outputs": [
    {
     "name": "stderr",
     "output_type": "stream",
     "text": [
      "c:\\users\\kss09\\appdata\\local\\programs\\python\\python37\\lib\\site-packages\\ipykernel_launcher.py:6: DeprecationWarning: use driver.switch_to.frame instead\n",
      "  \n",
      "c:\\users\\kss09\\appdata\\local\\programs\\python\\python37\\lib\\site-packages\\ipykernel_launcher.py:8: DeprecationWarning: use driver.switch_to.default_content instead\n",
      "  \n"
     ]
    }
   ],
   "source": [
    "#20181001 - 20191001까지 데이터 검색\n",
    "Date = 20181000\n",
    "i = 0\n",
    "\n",
    "while(Date<20190931): \n",
    "    day = Date%100\n",
    "    month = ((Date%10000)-day)/100\n",
    "    year = (Date-(Date%10000))/10000\n",
    "    day = day + 1\n",
    "    if day > end_date[i]:\n",
    "        day = 1\n",
    "        month = month + 1\n",
    "        i = i+1\n",
    "        if month == 13:\n",
    "            year = year + 1\n",
    "            month = 1\n",
    "            day = 1\n",
    "    Date = int((year*10000)+(month*100)+day)\n",
    "    Run(Date)"
   ]
  },
  {
   "cell_type": "code",
   "execution_count": 11,
   "metadata": {},
   "outputs": [],
   "source": [
    "#csv파일생성\n",
    "data = pd.DataFrame(FlightData)\n",
    "data.to_csv('제주출발.csv', encoding='cp949')"
   ]
  }
 ],
 "metadata": {
  "kernelspec": {
   "display_name": "Python 3",
   "language": "python",
   "name": "python3"
  },
  "language_info": {
   "codemirror_mode": {
    "name": "ipython",
    "version": 3
   },
   "file_extension": ".py",
   "mimetype": "text/x-python",
   "name": "python",
   "nbconvert_exporter": "python",
   "pygments_lexer": "ipython3",
   "version": "3.7.4"
  }
 },
 "nbformat": 4,
 "nbformat_minor": 2
}
