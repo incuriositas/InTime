{
 "cells": [
  {
   "cell_type": "code",
   "execution_count": 1,
   "metadata": {},
   "outputs": [
    {
     "name": "stderr",
     "output_type": "stream",
     "text": [
      "c:\\users\\kss09\\appdata\\local\\programs\\python\\python37\\lib\\site-packages\\sklearn\\externals\\joblib\\__init__.py:15: DeprecationWarning: sklearn.externals.joblib is deprecated in 0.21 and will be removed in 0.23. Please import this functionality directly from joblib, which can be installed with: pip install joblib. If this warning is raised when loading pickled models, you may need to re-serialize those models with scikit-learn 0.21+.\n",
      "  warnings.warn(msg, category=DeprecationWarning)\n"
     ]
    }
   ],
   "source": [
    "import pandas as pd\n",
    "import pickle\n",
    "from sklearn.externals import joblib"
   ]
  },
  {
   "cell_type": "code",
   "execution_count": 2,
   "metadata": {},
   "outputs": [],
   "source": [
    "from_pk = joblib.load('intime.pkl')"
   ]
  },
  {
   "cell_type": "code",
   "execution_count": 3,
   "metadata": {},
   "outputs": [],
   "source": [
    "import urllib\n",
    "import json\n",
    "from datetime import datetime \n",
    "now = datetime.now()\n",
    "\n",
    "def getWeather(origin, day, time):\n",
    "\n",
    "    if origin == 'jeju':\n",
    "        originName = 'jeju,kr'\n",
    "    elif origin == 'gmp':\n",
    "        originName = 'seoul,kr'\n",
    "    else:\n",
    "        print(\"출발지를 입력 오류\")\n",
    "           \n",
    "    wind_dir = 0\n",
    "    temp = 22.5\n",
    "    num = 0\n",
    "    \n",
    "    if day==now.day:    \n",
    "        num = time - (now.hour)\n",
    "    else:\n",
    "        num = time + (24-now.hour)\n",
    "\n",
    "    request = 가져와라\n",
    "    res = request['response']\n",
    "    periods = res[0]['periods']\n",
    "\n",
    "    if request['success']:\n",
    "        periods[0]['dateTimeISO']\n",
    "        TMP = periods[num]['avgTempC']*10\n",
    "        CA_TOT = periods[num]['sky']\n",
    "        TD = periods[num]['dewpointC']*10\n",
    "        WSPD = periods[num]['windSpeedKTS']\n",
    "        wind_dir = periods[num]['windDirDEG']\n",
    "        for i in range(2,16):\n",
    "            if wind_dir < 22.5:\n",
    "                wind_dir = 0\n",
    "            elif temp*(i-1) <= wind_dir and wind_dir < (temp * i):\n",
    "                wind_dir = i\n",
    "                break\n",
    "        WD = wind_dir\n",
    "        PA = periods[num]['pressureMB']*10\n",
    "    else:\n",
    "        print(\"An error occurred: %s\" % (json['error']['description']))\n",
    "        request.close()\n",
    "    return [TMP,CA_TOT,TD,WSPD,WD,PA]"
   ]
  },
  {
   "cell_type": "code",
   "execution_count": 4,
   "metadata": {},
   "outputs": [],
   "source": [
    "weather = getWeather('jeju',31,19)"
   ]
  },
  {
   "cell_type": "code",
   "execution_count": 7,
   "metadata": {},
   "outputs": [],
   "source": [
    "def predict_delay(departure_date_time, weekend, airport, origin, destination, weather):\n",
    "    from datetime import datetime\n",
    "\n",
    "    try:\n",
    "        departure_date_time_parsed = datetime.strptime(departure_date_time, '%d/%m/%Y %H:%M:%S')\n",
    "    except ValueError as e:\n",
    "        return 'Error parsing date/time - {}'.format(e)\n",
    "\n",
    "    year = departure_date_time_parsed.year\n",
    "    month = departure_date_time_parsed.month\n",
    "    day = departure_date_time_parsed.day\n",
    "    hour = departure_date_time_parsed.hour\n",
    "\n",
    "    origin = origin.upper()\n",
    "    destination = destination.upper()\n",
    "\n",
    "    input = [{'CA_TOT': weather[1],\n",
    "              'Date': year*10000+month*100+day,\n",
    "              'PA' : weather[5],\n",
    "              'TD': weather[2],\n",
    "              'TMP' : weather[0],\n",
    "              'Time': hour,\n",
    "              'WD' : weather[4],              \n",
    "              'WSPD': weather[3],\n",
    "              '항공사_대한항공': 1 if origin == '대한항공' else 0,\n",
    "              '항공사_아시아나항공': 1 if origin == '아시아나항공' else 0,\n",
    "              '항공사_에어부산': 1 if origin == \"에어부산\" else 0,\n",
    "              '항공사_에어필립': 1 if origin == '에어필립' else 0,\n",
    "              '항공사_이스타항공': 1 if origin == '이스타항공' else 0,\n",
    "              '항공사_제주항공': 1 if origin == '제주항공' else 0,\n",
    "              '항공사_진에어': 1 if origin == '진에어' else 0,\n",
    "              '항공사_티웨이항공': 1 if origin == '티웨이항공' else 0,\n",
    "              'ORIGIN_김포공항': 1 if origin == '김포' else 0,\n",
    "              'ORIGIN_제주공항': 1 if origin == '제주' else 0,\n",
    "              'DEST_김포공항': 1 if destination == '김포' else 0,\n",
    "              'DEST_제주공항': 1 if origin == '제주' else 0,\n",
    "              'weekend_FRI': 1 if destination == '금' else 0,\n",
    "              'weekend_MON': 1 if destination == '월' else 0,\n",
    "              'weekend_SAT': 1 if destination == '토' else 0,\n",
    "              'weekend_SUN': 1 if destination == '일' else 0,\n",
    "              'weekend_THU': 1 if destination == '목' else 0,\n",
    "              'weekend_TUE': 1 if destination == '화' else 0,\n",
    "              'weekend_WED': 1 if destination == '수' else 0, \n",
    "            }]\n",
    "    return from_pk.predict(pd.DataFrame(input))[0]"
   ]
  },
  {
   "cell_type": "code",
   "execution_count": 8,
   "metadata": {},
   "outputs": [
    {
     "data": {
      "text/plain": [
       "1.0"
      ]
     },
     "execution_count": 8,
     "metadata": {},
     "output_type": "execute_result"
    }
   ],
   "source": [
    "predict_delay('31/10/2019 19:00:00','목', '제주','제주', '김포', weather)"
   ]
  }
 ],
 "metadata": {
  "kernelspec": {
   "display_name": "Python 3",
   "language": "python",
   "name": "python3"
  },
  "language_info": {
   "codemirror_mode": {
    "name": "ipython",
    "version": 3
   },
   "file_extension": ".py",
   "mimetype": "text/x-python",
   "name": "python",
   "nbconvert_exporter": "python",
   "pygments_lexer": "ipython3",
   "version": "3.7.4"
  }
 },
 "nbformat": 4,
 "nbformat_minor": 4
}
