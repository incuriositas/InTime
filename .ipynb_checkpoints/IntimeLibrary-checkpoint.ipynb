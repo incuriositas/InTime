{
 "cells": [
  {
   "cell_type": "code",
   "execution_count": 1,
   "metadata": {},
   "outputs": [],
   "source": [
    "import numpy as np\n",
    "import pandas as pd\n",
    "import matplotlib.pyplot as plt\n",
    "import seaborn as sns\n",
    "import matplotlib\n",
    "import matplotlib.font_manager as fm\n",
    "fm.get_fontconfig_fonts()\n",
    "# font_location = '/usr/share/fonts/truetype/nanum/NanumGothicOTF.ttf'\n",
    "font_location = 'THEBongsoona+Tinte.ttf' # For Windows\n",
    "font_name = fm.FontProperties(fname=font_location).get_name()\n",
    "matplotlib.rc('font', family=font_name)"
   ]
  },
  {
   "cell_type": "code",
   "execution_count": 2,
   "metadata": {},
   "outputs": [],
   "source": [
    "def display_heatmap(df):\n",
    "    plt.figure(figsize=(10, 7))\n",
    "    sns.heatmap(df.corr(),annot=True ,cmap='cubehelix_r')\n",
    "    plt.show()"
   ]
  },
  {
   "cell_type": "code",
   "execution_count": 3,
   "metadata": {},
   "outputs": [],
   "source": [
    "def mask_with_in1d(df, column, val):\n",
    "    mask = np.in1d(df[column].values, [val])\n",
    "    return df[mask]"
   ]
  },
  {
   "cell_type": "code",
   "execution_count": 4,
   "metadata": {},
   "outputs": [],
   "source": [
    "def one_hot(df, cols):\n",
    "    new_df = pd.get_dummies(df, columns=cols)\n",
    "    return new_df"
   ]
  },
  {
   "cell_type": "code",
   "execution_count": 5,
   "metadata": {},
   "outputs": [],
   "source": [
    "def fix_flight(df, i):\n",
    "    if i == 0:\n",
    "        df.drop([\"Unnamed: 0\", \"편명\", \"목적지\",  \"예상\", \"구분\"], axis=1, inplace=True)\n",
    "    else:\n",
    "        df.drop([\"Unnamed: 0\", \"편명\", \"출발지\", \"예상\", \"구분\"], axis=1, inplace=True)"
   ]
  },
  {
   "cell_type": "code",
   "execution_count": 6,
   "metadata": {},
   "outputs": [],
   "source": [
    "def fix_time(df, file_name):\n",
    "    df['time'] = df['계획'].str.split(':').str[0]\n",
    "    df['TM'] = \"\"\n",
    "    for i in range(len(df)):\n",
    "        if len(df['time'][i]) == 1:\n",
    "            df['TM'][i] = str(df['날짜'][i]) + \"0\" + df['time'][i]\n",
    "            print(df['TM'][i])\n",
    "        else:\n",
    "            df['TM'][i] = str(df['날짜'][i]) + df['time'][i]\n",
    "    df.to_csv(\"dataset/FlightCSV/\"+file_name, encoding='utf-8-sig')"
   ]
  },
  {
   "cell_type": "code",
   "execution_count": 7,
   "metadata": {},
   "outputs": [],
   "source": [
    "def fix_weather(df):\n",
    "    df['Date'] = df.TM.apply(lambda x: str(x)[:8])\n",
    "    df['Time'] = df.TM.apply(lambda x: str(x)[8:])"
   ]
  },
  {
   "cell_type": "code",
   "execution_count": 8,
   "metadata": {},
   "outputs": [],
   "source": [
    "def month_slice(df, day, last):\n",
    "    new_df = pd.DataFrame()\n",
    "    for i in range(last):\n",
    "        temp = mask_with_in1d(df, \"날짜\", day)\n",
    "        new_df = pd.concat([new_df, temp], ignore_index=True)\n",
    "        day += 1\n",
    "    return new_df"
   ]
  }
 ],
 "metadata": {
  "kernelspec": {
   "display_name": "Python 3",
   "language": "python",
   "name": "python3"
  },
  "language_info": {
   "codemirror_mode": {
    "name": "ipython",
    "version": 3
   },
   "file_extension": ".py",
   "mimetype": "text/x-python",
   "name": "python",
   "nbconvert_exporter": "python",
   "pygments_lexer": "ipython3",
   "version": "3.7.4"
  }
 },
 "nbformat": 4,
 "nbformat_minor": 4
}
