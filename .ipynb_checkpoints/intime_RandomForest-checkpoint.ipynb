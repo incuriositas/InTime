{
 "cells": [
  {
   "cell_type": "code",
   "execution_count": 1,
   "metadata": {},
   "outputs": [
    {
     "name": "stdout",
     "output_type": "stream",
     "text": [
      "importing Jupyter notebook from IntimeLibrary.ipynb\n",
      "importing Jupyter notebook from FlieLibrary.ipynb\n"
     ]
    },
    {
     "name": "stderr",
     "output_type": "stream",
     "text": [
      "c:\\users\\kss09\\appdata\\local\\programs\\python\\python37\\lib\\site-packages\\pandas\\core\\frame.py:7123: FutureWarning: Sorting because non-concatenation axis is not aligned. A future version\n",
      "of pandas will change to not sort by default.\n",
      "\n",
      "To accept the future behavior, pass 'sort=False'.\n",
      "\n",
      "To retain the current behavior and silence the warning, pass 'sort=True'.\n",
      "\n",
      "  sort=sort,\n"
     ]
    }
   ],
   "source": [
    "import import_ipynb\n",
    "import IntimeLibrary as il\n",
    "import FlieLibrary as fl\n",
    "import pandas as pd\n",
    "import numpy as np\n",
    "import pickle"
   ]
  },
  {
   "cell_type": "code",
   "execution_count": 2,
   "metadata": {},
   "outputs": [],
   "source": [
    "#None값 열 제거\n",
    "fl.depart_data.dropna(axis=1, inplace=True)"
   ]
  },
  {
   "cell_type": "code",
   "execution_count": 3,
   "metadata": {},
   "outputs": [],
   "source": [
    "fl.depart_data.drop([\"날짜\", \"time\", \"TM\", \"현황\"],axis=1, inplace=True)\n",
    "fl.depart_data.drop([\"VIS\", \"PS\"],axis=1, inplace=True)"
   ]
  },
  {
   "cell_type": "code",
   "execution_count": 4,
   "metadata": {},
   "outputs": [],
   "source": [
    "#one-hot-encoding\n",
    "fl.depart_data = pd.get_dummies(fl.depart_data, columns=['항공사',\"ORIGIN\",\"DEST\", \"weekend\"])"
   ]
  },
  {
   "cell_type": "code",
   "execution_count": 5,
   "metadata": {},
   "outputs": [],
   "source": [
    "fl.depart_data['Date']=fl.depart_data['Date'].astype(np.int64)\n",
    "fl.depart_data['Time']=fl.depart_data['Time'].astype(np.int64)\n",
    "fl.depart_data[\"DelayRate\"]=fl.depart_data[\"DelayRate\"].astype(np.int64)"
   ]
  },
  {
   "cell_type": "code",
   "execution_count": 6,
   "metadata": {},
   "outputs": [],
   "source": [
    "#테스트 세트 생성\n",
    "def split_flight_test(data, test_ratio):\n",
    "    shuffled_indices = np.random.permutation(len(data))\n",
    "    test_set_size = int(len(data) * test_ratio)\n",
    "    test_indices = shuffled_indices[:test_set_size]\n",
    "    flight_indices = shuffled_indices[test_set_size:]\n",
    "    return data.iloc[flight_indices], data.iloc[test_indices]"
   ]
  },
  {
   "cell_type": "code",
   "execution_count": 7,
   "metadata": {},
   "outputs": [
    {
     "name": "stdout",
     "output_type": "stream",
     "text": [
      "108924 flight + 27231 test\n"
     ]
    }
   ],
   "source": [
    "# 무작위로 샘플 선택하여 데이터셋의 20% 분리\n",
    "flight_set, test_set = split_flight_test(fl.depart_data, 0.2)\n",
    "print(len(flight_set), \"flight +\", len(test_set), \"test\")"
   ]
  },
  {
   "cell_type": "code",
   "execution_count": 8,
   "metadata": {},
   "outputs": [
    {
     "name": "stdout",
     "output_type": "stream",
     "text": [
      "<class 'pandas.core.frame.DataFrame'>\n",
      "RangeIndex: 136155 entries, 0 to 136154\n",
      "Data columns (total 28 columns):\n",
      "CA_TOT         136155 non-null int64\n",
      "Date           136155 non-null int64\n",
      "DelayRate      136155 non-null int64\n",
      "PA             136155 non-null int64\n",
      "TD             136155 non-null int64\n",
      "TMP            136155 non-null int64\n",
      "Time           136155 non-null int64\n",
      "WD             136155 non-null int64\n",
      "WSPD           136155 non-null int64\n",
      "항공사_대한항공       136155 non-null uint8\n",
      "항공사_아시아나항공     136155 non-null uint8\n",
      "항공사_에어부산       136155 non-null uint8\n",
      "항공사_에어필립       136155 non-null uint8\n",
      "항공사_이스타항공      136155 non-null uint8\n",
      "항공사_제주항공       136155 non-null uint8\n",
      "항공사_진에어        136155 non-null uint8\n",
      "항공사_티웨이항공      136155 non-null uint8\n",
      "ORIGIN_김포공항    136155 non-null uint8\n",
      "ORIGIN_제주공항    136155 non-null uint8\n",
      "DEST_김포공항      136155 non-null uint8\n",
      "DEST_제주공항      136155 non-null uint8\n",
      "weekend_FRI    136155 non-null uint8\n",
      "weekend_MON    136155 non-null uint8\n",
      "weekend_SAT    136155 non-null uint8\n",
      "weekend_SUN    136155 non-null uint8\n",
      "weekend_THU    136155 non-null uint8\n",
      "weekend_TUE    136155 non-null uint8\n",
      "weekend_WED    136155 non-null uint8\n",
      "dtypes: int64(9), uint8(19)\n",
      "memory usage: 11.8 MB\n"
     ]
    }
   ],
   "source": [
    "fl.depart_data.info()"
   ]
  },
  {
   "cell_type": "code",
   "execution_count": 19,
   "metadata": {},
   "outputs": [],
   "source": [
    "from sklearn.model_selection import train_test_split\n",
    "flight_set, test_set = train_test_split(fl.depart_data, test_size=0.35, random_state=42)"
   ]
  },
  {
   "cell_type": "code",
   "execution_count": 20,
   "metadata": {},
   "outputs": [],
   "source": [
    "#계층별로 데이터셋에 충분한 샘플 수가 있어야함 -> 중요도 편향 방지\n",
    "fl.depart_data[\"delay\"] = fl.depart_data['DelayRate']\n",
    "fl.depart_data[\"delay\"].where(fl.depart_data[\"DelayRate\"] < 5, 5.0, inplace=True)"
   ]
  },
  {
   "cell_type": "code",
   "execution_count": 29,
   "metadata": {},
   "outputs": [],
   "source": [
    "#계층별 샘플링\n",
    "from sklearn.model_selection import StratifiedShuffleSplit\n",
    " \n",
    "split = StratifiedShuffleSplit(n_splits=1, test_size=0.35, random_state=42)\n",
    "for flight_index, test_index in split.split(fl.depart_data, fl.depart_data[\"delay\"]):\n",
    "    strat_flight_set = fl.depart_data.loc[flight_index]\n",
    "    strat_test_set = fl.depart_data.loc[test_index]"
   ]
  },
  {
   "cell_type": "code",
   "execution_count": 30,
   "metadata": {},
   "outputs": [
    {
     "data": {
      "text/plain": [
       "0    0.198134\n",
       "1    0.194022\n",
       "2    0.170695\n",
       "4    0.148706\n",
       "3    0.146377\n",
       "5    0.142066\n",
       "Name: delay, dtype: float64"
      ]
     },
     "execution_count": 30,
     "metadata": {},
     "output_type": "execute_result"
    }
   ],
   "source": [
    "#전체 데이터셋에서 delay카테고리의 비율측정\n",
    "fl.depart_data[\"delay\"].value_counts() / len(fl.depart_data)"
   ]
  },
  {
   "cell_type": "code",
   "execution_count": 31,
   "metadata": {},
   "outputs": [],
   "source": [
    "#delay특성 삭제 데이터 원래 상태로 복구\n",
    "for set_ in (strat_flight_set, strat_test_set):\n",
    "    set_.drop(\"delay\", axis=1, inplace=True)"
   ]
  },
  {
   "cell_type": "code",
   "execution_count": 32,
   "metadata": {},
   "outputs": [],
   "source": [
    "#훈련데이터셋 손상 방지 복사본 만들어 사용\n",
    "data = strat_flight_set.copy()"
   ]
  },
  {
   "cell_type": "code",
   "execution_count": 33,
   "metadata": {},
   "outputs": [],
   "source": [
    "data = strat_flight_set.drop(\"DelayRate\", axis=1)\n",
    "data_labels = strat_flight_set[\"DelayRate\"].copy()"
   ]
  },
  {
   "cell_type": "code",
   "execution_count": 34,
   "metadata": {},
   "outputs": [
    {
     "name": "stderr",
     "output_type": "stream",
     "text": [
      "c:\\users\\kss09\\appdata\\local\\programs\\python\\python37\\lib\\site-packages\\sklearn\\ensemble\\forest.py:245: FutureWarning: The default value of n_estimators will change from 10 in version 0.20 to 100 in 0.22.\n",
      "  \"10 in version 0.20 to 100 in 0.22.\", FutureWarning)\n"
     ]
    },
    {
     "data": {
      "text/plain": [
       "RandomForestRegressor(bootstrap=True, criterion='mse', max_depth=None,\n",
       "                      max_features='auto', max_leaf_nodes=None,\n",
       "                      min_impurity_decrease=0.0, min_impurity_split=None,\n",
       "                      min_samples_leaf=1, min_samples_split=2,\n",
       "                      min_weight_fraction_leaf=0.0, n_estimators=10,\n",
       "                      n_jobs=None, oob_score=False, random_state=None,\n",
       "                      verbose=0, warm_start=False)"
      ]
     },
     "execution_count": 34,
     "metadata": {},
     "output_type": "execute_result"
    }
   ],
   "source": [
    "from sklearn.ensemble import RandomForestRegressor\n",
    "forest_reg = RandomForestRegressor()\n",
    "forest_reg.fit(data, data_labels)"
   ]
  },
  {
   "cell_type": "code",
   "execution_count": 35,
   "metadata": {},
   "outputs": [],
   "source": [
    "saved_model = pickle.dumps(forest_reg)"
   ]
  },
  {
   "cell_type": "code",
   "execution_count": 36,
   "metadata": {},
   "outputs": [
    {
     "data": {
      "text/plain": [
       "['intime.pkl']"
      ]
     },
     "execution_count": 36,
     "metadata": {},
     "output_type": "execute_result"
    }
   ],
   "source": [
    "from sklearn.externals import joblib\n",
    "\n",
    "joblib.dump(forest_reg, 'intime.pkl')"
   ]
  }
 ],
 "metadata": {
  "kernelspec": {
   "display_name": "Python 3",
   "language": "python",
   "name": "python3"
  },
  "language_info": {
   "codemirror_mode": {
    "name": "ipython",
    "version": 3
   },
   "file_extension": ".py",
   "mimetype": "text/x-python",
   "name": "python",
   "nbconvert_exporter": "python",
   "pygments_lexer": "ipython3",
   "version": "3.7.4"
  }
 },
 "nbformat": 4,
 "nbformat_minor": 4
}
