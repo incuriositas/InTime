{
 "cells": [
  {
   "cell_type": "code",
   "execution_count": 1,
   "metadata": {},
   "outputs": [],
   "source": [
    "import IntimeLib as il"
   ]
  },
  {
   "cell_type": "code",
   "execution_count": 2,
   "metadata": {},
   "outputs": [],
   "source": [
    "df_181001 = il.mask_with_in1d(il.df_from_cju, \"날짜\", 20181001)"
   ]
  },
  {
   "cell_type": "code",
   "execution_count": 4,
   "metadata": {},
   "outputs": [],
   "source": [
    "for i in range(len(df_181001)):\n",
    "    if len(df_181001[\"계획\"][i]) == 4:\n",
    "        hour = int(df_181001[\"계획\"][i][0:1])\n",
    "    else:\n",
    "        hour = int(df_181001[\"계획\"][i][0:2])"
   ]
  },
  {
   "cell_type": "code",
   "execution_count": 5,
   "metadata": {},
   "outputs": [
    {
     "name": "stdout",
     "output_type": "stream",
     "text": [
      "         날짜     항공사      출발지    계획    도착  현황\n",
      "0  20181001  아시아나항공  CJU(제주)  7:40  7:25  도착\n",
      "1  20181001  아시아나항공  CJU(제주)  7:50  7:29  도착\n",
      "2  20181001     진에어  CJU(제주)  8:10  8:12  도착\n",
      "3  20181001    대한항공  CJU(제주)  8:10  7:59  도착\n",
      "4  20181001    제주항공  CJU(제주)  8:50  8:42  도착\n"
     ]
    }
   ],
   "source": [
    "print(il.df_to_gmp.head(5))"
   ]
  },
  {
   "cell_type": "code",
   "execution_count": 6,
   "metadata": {},
   "outputs": [
    {
     "name": "stdout",
     "output_type": "stream",
     "text": [
      "           TM  WD  WSPD  WS_GST   VIS  RVR1  RVR2  RVR3  RVR4  WC  ...  \\\n",
      "0  2018123124  33     5     NaN  1000   NaN   NaN   NaN   NaN NaN  ...   \n",
      "1  2019010101  34     7     NaN  1000   NaN   NaN   NaN   NaN NaN  ...   \n",
      "2  2019010102  31     9     NaN  1000   NaN   NaN   NaN   NaN NaN  ...   \n",
      "3  2019010103  31    12     NaN  1000   NaN   NaN   NaN   NaN NaN  ...   \n",
      "4  2019010104  31    12     NaN  1000   NaN   NaN   NaN   NaN NaN  ...   \n",
      "\n",
      "   BASE_2LYR  CLF_2LYR  CLA_3LYR  BASE_3LYR  CLF_3LYR  CLA_4LYR  BASE_4LYR  \\\n",
      "0        NaN       NaN       NaN        NaN       NaN       NaN        NaN   \n",
      "1        NaN       NaN       NaN        NaN       NaN       NaN        NaN   \n",
      "2        NaN       NaN       NaN        NaN       NaN       NaN        NaN   \n",
      "3        NaN       NaN       NaN        NaN       NaN       NaN        NaN   \n",
      "4        NaN       NaN       NaN        NaN       NaN       NaN        NaN   \n",
      "\n",
      "   CLF_4LYR        Date  Time  \n",
      "0       NaN  2018-12-31    24  \n",
      "1       NaN  2019-01-01    01  \n",
      "2       NaN  2019-01-01    02  \n",
      "3       NaN  2019-01-01    03  \n",
      "4       NaN  2019-01-01    04  \n",
      "\n",
      "[5 rows x 31 columns]\n"
     ]
    }
   ],
   "source": [
    "print(il.weather_cju_01.head(5))"
   ]
  }
 ],
 "metadata": {
  "kernelspec": {
   "display_name": "Python 3",
   "language": "python",
   "name": "python3"
  },
  "language_info": {
   "codemirror_mode": {
    "name": "ipython",
    "version": 3
   },
   "file_extension": ".py",
   "mimetype": "text/x-python",
   "name": "python",
   "nbconvert_exporter": "python",
   "pygments_lexer": "ipython3",
   "version": "3.7.4"
  }
 },
 "nbformat": 4,
 "nbformat_minor": 4
}
