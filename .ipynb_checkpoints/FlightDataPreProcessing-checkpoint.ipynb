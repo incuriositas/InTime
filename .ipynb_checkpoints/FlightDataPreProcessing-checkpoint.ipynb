{
 "cells": [
  {
   "cell_type": "code",
   "execution_count": 1,
   "metadata": {},
   "outputs": [
    {
     "name": "stdout",
     "output_type": "stream",
     "text": [
      "importing Jupyter notebook from IntimeLibrary.ipynb\n",
      "importing Jupyter notebook from FlieLibrary.ipynb\n"
     ]
    }
   ],
   "source": [
    "import import_ipynb\n",
    "import IntimeLibrary as il\n",
    "import FlieLibrary as fl\n",
    "import pandas as pd\n",
    "import numpy as np"
   ]
  },
  {
   "cell_type": "code",
   "execution_count": 2,
   "metadata": {},
   "outputs": [
    {
     "name": "stdout",
     "output_type": "stream",
     "text": [
      "         날짜     항공사    계획    출발  현황  time          TM  delayTime weekend\n",
      "0  20181001  아시아나항공  6:30  6:37  출발     6  2018100106        7.0     Mon\n",
      "1  20181001  아시아나항공  6:40  6:44  출발     6  2018100106        4.0     Mon\n",
      "2  20181001    대한항공  7:00  7:09  출발     7  2018100107        9.0     Mon\n",
      "3  20181001     진에어  7:05  7:21  출발     7  2018100107       16.0     Mon\n",
      "4  20181001    제주항공  7:40  7:54  출발     7  2018100107       14.0     Mon\n",
      "5  20181001  아시아나항공  7:55  8:02  출발     7  2018100107        7.0     Mon\n",
      "6  20181001   티웨이항공  7:55  8:05  출발     7  2018100107       10.0     Mon\n",
      "7  20181001    대한항공  8:00  8:15  출발     8  2018100108       15.0     Mon\n",
      "8  20181001     진에어  8:05  8:19  출발     8  2018100108       14.0     Mon\n",
      "9  20181001   이스타항공  8:10  8:40  지연     8  2018100108       30.0     Mon\n",
      "         날짜     항공사    계획    도착  현황  time          TM  delayTime weekend\n",
      "0  20181001  아시아나항공  7:40  7:25  도착     7  2018100107      -15.0     Mon\n",
      "1  20181001  아시아나항공  7:50  7:29  도착     7  2018100107      -21.0     Mon\n",
      "2  20181001     진에어  8:10  8:12  도착     8  2018100108        2.0     Mon\n",
      "3  20181001    대한항공  8:10  7:59  도착     8  2018100108      -11.0     Mon\n",
      "4  20181001    제주항공  8:50  8:42  도착     8  2018100108       -8.0     Mon\n",
      "5  20181001  아시아나항공  9:05  8:48  도착     9  2018100109      -17.0     Mon\n",
      "6  20181001   티웨이항공  9:05  8:55  도착     9  2018100109      -10.0     Mon\n",
      "7  20181001    대한항공  9:10  9:02  도착     9  2018100109       -8.0     Mon\n",
      "8  20181001   이스타항공  9:15  9:26  도착     9  2018100109       11.0     Mon\n",
      "9  20181001     진에어  9:15  9:05  도착     9  2018100109      -10.0     Mon\n",
      "         날짜     항공사    계획    출발  현황  time          TM  delayTime weekend\n",
      "0  20181001     진에어  6:05  6:21  출발     6  2018100106       16.0     Mon\n",
      "1  20181001  아시아나항공  6:05  6:13  출발     6  2018100106        8.0     Mon\n",
      "2  20181001     진에어  6:10  6:18  출발     6  2018100106        8.0     Mon\n",
      "3  20181001   이스타항공  6:10  6:24  출발     6  2018100106       14.0     Mon\n",
      "4  20181001    제주항공  6:15  6:33  출발     6  2018100106       18.0     Mon\n",
      "5  20181001   이스타항공  6:15  6:18  출발     6  2018100106        3.0     Mon\n",
      "6  20181001    제주항공  6:25  6:38  출발     6  2018100106       13.0     Mon\n",
      "7  20181001  아시아나항공  6:25  6:43  출발     6  2018100106       18.0     Mon\n",
      "8  20181001   티웨이항공  6:40  6:46  출발     6  2018100106        6.0     Mon\n",
      "9  20181001   이스타항공  6:50  7:07  출발     6  2018100106       17.0     Mon\n",
      "         날짜     항공사    계획    도착  현황  time          TM  delayTime weekend\n",
      "0  20181001  아시아나항공  7:15  6:59  도착     7  2018100107      -16.0     Mon\n",
      "1  20181001   이스타항공  7:20  7:20  도착     7  2018100107        0.0     Mon\n",
      "2  20181001     진에어  7:20  7:16  도착     7  2018100107       -4.0     Mon\n",
      "3  20181001   이스타항공  7:25  7:24  도착     7  2018100107       -1.0     Mon\n",
      "4  20181001     진에어  7:25  7:13  도착     7  2018100107      -12.0     Mon\n",
      "5  20181001    제주항공  7:30  7:30  도착     7  2018100107        0.0     Mon\n",
      "6  20181001    제주항공  7:35  7:33  도착     7  2018100107       -2.0     Mon\n",
      "7  20181001  아시아나항공  7:35  7:40  도착     7  2018100107        5.0     Mon\n",
      "8  20181001   티웨이항공  7:50  7:44  도착     7  2018100107       -6.0     Mon\n",
      "9  20181001   이스타항공  7:55  8:00  도착     7  2018100107        5.0     Mon\n"
     ]
    }
   ],
   "source": [
    "print(fl.flight_from_cju.head(10))\n",
    "print(fl.flight_to_gmp.head(10))\n",
    "print(fl.flight_from_gmp.head(10))\n",
    "print(fl.flight_to_cju.head(10))"
   ]
  },
  {
   "cell_type": "code",
   "execution_count": 3,
   "metadata": {},
   "outputs": [],
   "source": [
    "#from_cju = il.one_hot(fl.flight_from_cju,['weekend'])\n",
    "#to_gmp = il.one_hot(fl.flight_to_gmp,['weekend'])\n",
    "#from_gmp = il.one_hot(fl.flight_from_gmp,['weekend'])\n",
    "#to_cju = il.one_hot(fl.flight_to_cju,['weekend'])"
   ]
  },
  {
   "cell_type": "code",
   "execution_count": 4,
   "metadata": {},
   "outputs": [
    {
     "name": "stdout",
     "output_type": "stream",
     "text": [
      "309\n",
      "326\n",
      "288\n",
      "313\n"
     ]
    }
   ],
   "source": [
    "print(fl.flight_from_cju['delayTime'].isnull().sum())\n",
    "print(fl.flight_to_gmp['delayTime'].isnull().sum())\n",
    "print(fl.flight_from_gmp['delayTime'].isnull().sum())\n",
    "print(fl.flight_to_cju['delayTime'].isnull().sum())"
   ]
  },
  {
   "cell_type": "code",
   "execution_count": 5,
   "metadata": {},
   "outputs": [],
   "source": [
    "temp1 = fl.flight_from_cju.dropna(axis=0)\n",
    "temp2 = fl.flight_to_gmp.dropna(axis=0)\n",
    "temp3 = fl.flight_from_gmp.dropna(axis=0)\n",
    "temp4 = fl.flight_to_cju.dropna(axis=0)"
   ]
  },
  {
   "cell_type": "code",
   "execution_count": 6,
   "metadata": {},
   "outputs": [
    {
     "name": "stdout",
     "output_type": "stream",
     "text": [
      "0\n",
      "0\n",
      "0\n",
      "0\n"
     ]
    }
   ],
   "source": [
    "print(temp1['delayTime'].isnull().sum())\n",
    "print(temp2['delayTime'].isnull().sum())\n",
    "print(temp3['delayTime'].isnull().sum())\n",
    "print(temp4['delayTime'].isnull().sum())"
   ]
  },
  {
   "cell_type": "code",
   "execution_count": 7,
   "metadata": {},
   "outputs": [
    {
     "name": "stdout",
     "output_type": "stream",
     "text": [
      "387.0 / -165.0\n",
      "368.0 / -166.0\n",
      "370.0 / -141.0\n",
      "359.0 / -550.0\n"
     ]
    }
   ],
   "source": [
    "print(temp1['delayTime'].max(),\"/\",temp1['delayTime'].min())\n",
    "print(temp2['delayTime'].max(),\"/\",temp2['delayTime'].min())\n",
    "print(temp3['delayTime'].max(),\"/\",temp3['delayTime'].min())\n",
    "print(temp4['delayTime'].max(),\"/\",temp4['delayTime'].min())"
   ]
  },
  {
   "cell_type": "code",
   "execution_count": 8,
   "metadata": {},
   "outputs": [
    {
     "name": "stdout",
     "output_type": "stream",
     "text": [
      "             날짜     항공사     계획     도착  현황  time          TM  delayTime weekend\n",
      "42713  20190916  아시아나항공  19:55  10:45  도착    19  2019091619     -550.0     Mon\n",
      "6828   20181125    대한항공  10:10   1:02  지연    10  2018112510     -548.0     SUN\n",
      "16620  20190216   이스타항공  21:30  12:24  도착    21  2019021621     -546.0     SAT\n",
      "11860  20190106    에어필립  18:40  16:08  도착    18  2019010618     -152.0     SUN\n",
      "31483  20190620     진에어  11:35   9:28  도착    11  2019062011     -127.0     THU\n",
      "11623  20190104    에어필립  19:05  17:20  도착    19  2019010419     -105.0     FRI\n",
      "12687  20190113    에어필립  18:40  17:03  도착    18  2019011318      -97.0     SUN\n",
      "30263  20190610    제주항공  16:40  15:30  도착    16  2019061016      -70.0     Mon\n",
      "17467  20190224    대한항공  13:40  12:43  도착    13  2019022413      -57.0     SUN\n",
      "7653   20181202    대한항공  10:30   9:35  도착    10  2018120210      -55.0     SUN\n",
      "349    20181003   이스타항공  19:20  18:45  도착    19  2018100319      -35.0     WED\n",
      "31239  20190618    제주항공  12:30  11:55  도착    12  2019061812      -35.0     TUE\n",
      "222    20181002   이스타항공  19:20  18:48  도착    19  2018100219      -32.0     TUE\n",
      "24417  20190425   이스타항공  12:05  11:35  도착    12  2019042512      -30.0     THU\n",
      "34511  20190714     진에어   8:40   8:13  도착     8  2019071408      -27.0     SUN\n",
      "32968  20190702     진에어   7:20   6:56  도착     7  2019070207      -24.0     TUE\n",
      "28642  20190528  아시아나항공  22:30  22:06  도착    22  2019052822      -24.0     TUE\n",
      "21782  20190403   이스타항공  17:45  17:21  도착    17  2019040317      -24.0     WED\n",
      "20092  20190319    에어부산  19:20  18:56  도착    19  2019031919      -24.0     TUE\n",
      "31954  20190624     진에어   7:20   6:56  도착     7  2019062407      -24.0     Mon\n"
     ]
    }
   ],
   "source": [
    "print(temp4.sort_values(by=['delayTime'],axis=0,ascending=True).head(20))"
   ]
  },
  {
   "cell_type": "code",
   "execution_count": 1,
   "metadata": {},
   "outputs": [],
   "source": [
    "#print(temp1.sort_values(by=['delayTime'],axis=0,ascending=True).head(20))\n",
    "#print(temp2.sort_values(by=['delayTime'],axis=0,ascending=True).head(20))\n",
    "#print(temp3.sort_values(by=['delayTime'],axis=0,ascending=True).head(20))"
   ]
  }
 ],
 "metadata": {
  "kernelspec": {
   "display_name": "Python 3",
   "language": "python",
   "name": "python3"
  },
  "language_info": {
   "codemirror_mode": {
    "name": "ipython",
    "version": 3
   },
   "file_extension": ".py",
   "mimetype": "text/x-python",
   "name": "python",
   "nbconvert_exporter": "python",
   "pygments_lexer": "ipython3",
   "version": "3.7.4"
  }
 },
 "nbformat": 4,
 "nbformat_minor": 4
}
