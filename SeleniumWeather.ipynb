{
 "cells": [
  {
   "cell_type": "code",
   "execution_count": 1,
   "metadata": {},
   "outputs": [],
   "source": [
    "from selenium import webdriver"
   ]
  },
  {
   "cell_type": "code",
   "execution_count": 2,
   "metadata": {},
   "outputs": [],
   "source": [
    "driver = webdriver.Chrome('C:/chromedriver.exe')"
   ]
  },
  {
   "cell_type": "code",
   "execution_count": 3,
   "metadata": {},
   "outputs": [],
   "source": [
    "#201810 - 201910까지 데이터 검색\n",
    "Date = 201809\n",
    "\n",
    "while(Date<201910): \n",
    "    month = Date%100\n",
    "    year= (Date-month)/100\n",
    "    month = month + 1\n",
    "    if month == 13:\n",
    "        year = year + 1\n",
    "        month = 1\n",
    "    Date = int((year*100)+month)\n",
    "    #RKSS 김포공항 RKPC 제주공항\n",
    "    driver.get(\"http://amoapi.kma.go.kr/amoApi/air_stcs?icao=RKPC&yyyymm=\"+str(Date))"
   ]
  }
 ],
 "metadata": {
  "kernelspec": {
   "display_name": "Python 3",
   "language": "python",
   "name": "python3"
  },
  "language_info": {
   "codemirror_mode": {
    "name": "ipython",
    "version": 3
   },
   "file_extension": ".py",
   "mimetype": "text/x-python",
   "name": "python",
   "nbconvert_exporter": "python",
   "pygments_lexer": "ipython3",
   "version": "3.7.4"
  }
 },
 "nbformat": 4,
 "nbformat_minor": 4
}
