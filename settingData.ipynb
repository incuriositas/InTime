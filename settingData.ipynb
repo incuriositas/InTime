{
 "cells": [
  {
   "cell_type": "code",
   "execution_count": 1,
   "metadata": {},
   "outputs": [
    {
     "name": "stdout",
     "output_type": "stream",
     "text": [
      "importing Jupyter notebook from IntimeLibrary.ipynb\n",
      "importing Jupyter notebook from FlieLibrary.ipynb\n"
     ]
    },
    {
     "name": "stderr",
     "output_type": "stream",
     "text": [
      "c:\\users\\kss09\\appdata\\local\\programs\\python\\python37\\lib\\site-packages\\pandas\\core\\frame.py:7123: FutureWarning: Sorting because non-concatenation axis is not aligned. A future version\n",
      "of pandas will change to not sort by default.\n",
      "\n",
      "To accept the future behavior, pass 'sort=False'.\n",
      "\n",
      "To retain the current behavior and silence the warning, pass 'sort=True'.\n",
      "\n",
      "  sort=sort,\n"
     ]
    }
   ],
   "source": [
    "import import_ipynb\n",
    "import IntimeLibrary as il\n",
    "import FlieLibrary as fl\n",
    "import pandas as pd\n",
    "import numpy as np\n",
    "from urllib.request import urlopen\n",
    "from xml.etree.ElementTree import parse"
   ]
  },
  {
   "cell_type": "code",
   "execution_count": 2,
   "metadata": {},
   "outputs": [],
   "source": [
    "#None값 열 제거\n",
    "# tempDt = fl.depart_data['delayTime']\n",
    "# fl.depart_data.dropna(axis=1, inplace=True)\n",
    "# fl.depart_data['delayTime'] = tempDt"
   ]
  },
  {
   "cell_type": "code",
   "execution_count": 3,
   "metadata": {},
   "outputs": [],
   "source": [
    "# fl.depart_data.head()"
   ]
  },
  {
   "cell_type": "code",
   "execution_count": 4,
   "metadata": {},
   "outputs": [],
   "source": [
    "# fl.depart_data.drop([\"time\", \"날짜\"],axis=1, inplace=True)"
   ]
  },
  {
   "cell_type": "code",
   "execution_count": 5,
   "metadata": {},
   "outputs": [],
   "source": [
    "# settingData = pd.DataFrame(fl.depart_data)\n",
    "# settingData.to_csv('settingData.csv', encoding='cp949')"
   ]
  },
  {
   "cell_type": "code",
   "execution_count": 6,
   "metadata": {},
   "outputs": [],
   "source": [
    "df = pd.read_csv(\"settingData.csv\", encoding='cp949')"
   ]
  },
  {
   "cell_type": "code",
   "execution_count": 7,
   "metadata": {},
   "outputs": [],
   "source": [
    "# CJU_people = {}\n",
    "# CJU_congest = {}\n",
    "# GMP_people = {}\n",
    "# GMP_congest = {}"
   ]
  },
  {
   "cell_type": "code",
   "execution_count": 8,
   "metadata": {},
   "outputs": [],
   "source": [
    "key = ''\n",
    "def get_person(airport,Date):\n",
    "    for p in range(1,3):\n",
    "        u = urlopen('http://openapi.airport.co.kr/service/rest/dailyExpectPassenger/dailyExpectPassenger?schDate='+str(Date)+'&schAirport='+airport+'&schTof=D&ServiceKey='+key+'&pageNo='+str(p))\n",
    "        doc = parse(u)\n",
    "        root = doc.getroot()\n",
    "\n",
    "        if airport=='CJU':\n",
    "            for item in root.iter(\"item\"):\n",
    "                TM = item.findtext('sdt')+item.findtext(\"hh\")\n",
    "                CJU_people[TM] = item.findtext('pct')\n",
    "                CJU_congest[TM] = item.findtext('congestYn')\n",
    "        elif airport=='GMP':\n",
    "            for item in root.iter(\"item\"):\n",
    "                TM = item.findtext('sdt')+item.findtext(\"hh\")\n",
    "                GMP_people[TM] = item.findtext('pct')\n",
    "                GMP_congest[TM] = item.findtext('congestYn')"
   ]
  },
  {
   "cell_type": "code",
   "execution_count": 9,
   "metadata": {},
   "outputs": [],
   "source": [
    "# import time"
   ]
  },
  {
   "cell_type": "code",
   "execution_count": 10,
   "metadata": {},
   "outputs": [],
   "source": [
    "# Date = 20181000\n",
    "# i = 0\n",
    "# end_date = [31,30,31,31,28,31,30,31,30,31,31,30]\n",
    "# airport = ['CJU','GMP']\n",
    "\n",
    "# for i in range(len(airport)):\n",
    "    \n",
    "#     airport = airport[i]\n",
    "    \n",
    "#     while(Date<2019080123): \n",
    "#         day = Date%100\n",
    "#         month = ((Date%10000)-day)/100\n",
    "#         year = (Date-(Date%10000))/10000\n",
    "#         day = day + 1\n",
    "#         if day > end_date[i]:\n",
    "#             day = 1\n",
    "#             month = month + 1\n",
    "#             i = i+1\n",
    "#             if month == 13:\n",
    "#                 year = year + 1\n",
    "#                 month = 1\n",
    "#                 day = 1\n",
    "#         Date = int((year*10000)+(month*100)+day)\n",
    "\n",
    "#         get_person(airport,Date)\n",
    "#         time.sleep(1)"
   ]
  },
  {
   "cell_type": "code",
   "execution_count": 11,
   "metadata": {},
   "outputs": [],
   "source": [
    "# cju_person = pd.DataFrame()\n",
    "# gmp_person = pd.DataFrame()"
   ]
  },
  {
   "cell_type": "code",
   "execution_count": 12,
   "metadata": {},
   "outputs": [],
   "source": [
    "# cju_person['TM'] = list(CJU_people.keys())\n",
    "# cju_person['cju_people'] = list(CJU_people.values())\n",
    "# cju_person['cju_congest'] = list(CJU_congest.values())\n",
    "# cju_person['Origin'] = '제주공항'"
   ]
  },
  {
   "cell_type": "code",
   "execution_count": 13,
   "metadata": {},
   "outputs": [],
   "source": [
    "# gmp_person['TM'] = list(GMP_people.keys())\n",
    "# gmp_person['gmp_people'] = list(GMP_people.values())\n",
    "# gmp_person['gmp_congest'] = list(GMP_congest.values())\n",
    "# gmp_person['Origin'] = '김포공항'"
   ]
  },
  {
   "cell_type": "code",
   "execution_count": 14,
   "metadata": {},
   "outputs": [],
   "source": [
    "gp = pd.read_csv(\"gmp_person.csv\", encoding='cp949')"
   ]
  },
  {
   "cell_type": "code",
   "execution_count": 15,
   "metadata": {},
   "outputs": [],
   "source": [
    "cp = pd.read_csv(\"cju_person.csv\", encoding='cp949')"
   ]
  },
  {
   "cell_type": "code",
   "execution_count": 16,
   "metadata": {},
   "outputs": [],
   "source": [
    "df_1 = df[df['ORIGIN']=='제주공항']\n",
    "df_2 = df[df['ORIGIN']=='김포공항']"
   ]
  },
  {
   "cell_type": "code",
   "execution_count": 19,
   "metadata": {},
   "outputs": [],
   "source": [
    "tdata = pd.merge(df_1,cp,on='TM')"
   ]
  },
  {
   "cell_type": "code",
   "execution_count": 20,
   "metadata": {},
   "outputs": [],
   "source": [
    "t2data = pd.merge(df_2,gp,on='TM')"
   ]
  },
  {
   "cell_type": "code",
   "execution_count": 22,
   "metadata": {},
   "outputs": [],
   "source": [
    "tdata['congest'] = tdata['cju_congest']\n",
    "tdata['people'] = tdata['cju_people']\n",
    "\n",
    "t2data['congest'] = t2data['gmp_congest']\n",
    "t2data['people'] = t2data['gmp_people']"
   ]
  },
  {
   "cell_type": "code",
   "execution_count": 24,
   "metadata": {},
   "outputs": [],
   "source": [
    "tdata.drop([\"Unnamed: 0_x\",'Unnamed: 0_y', \"Origin\",'cju_congest','cju_people'],axis=1, inplace=True)\n",
    "t2data.drop([\"Unnamed: 0_x\",'Unnamed: 0_y', \"Origin\",'gmp_congest','gmp_people'],axis=1, inplace=True)"
   ]
  },
  {
   "cell_type": "code",
   "execution_count": 25,
   "metadata": {},
   "outputs": [],
   "source": [
    "data = pd.concat([tdata, t2data])"
   ]
  },
  {
   "cell_type": "code",
   "execution_count": 29,
   "metadata": {},
   "outputs": [],
   "source": [
    "setdata = pd.DataFrame(data)\n",
    "setdata.to_csv('setdata.csv', encoding='cp949')"
   ]
  },
  {
   "cell_type": "code",
   "execution_count": 22,
   "metadata": {},
   "outputs": [],
   "source": [
    "# gmp_people_data = pd.DataFrame(gmp_person)\n",
    "# gmp_people_data.to_csv('gmp_person.csv', encoding='cp949')"
   ]
  },
  {
   "cell_type": "code",
   "execution_count": 23,
   "metadata": {},
   "outputs": [],
   "source": [
    "# cju_people_data = pd.DataFrame(cju_person)\n",
    "# cju_people_data.to_csv('cju_person.csv', encoding='cp949')"
   ]
  }
 ],
 "metadata": {
  "kernelspec": {
   "display_name": "Python 3",
   "language": "python",
   "name": "python3"
  },
  "language_info": {
   "codemirror_mode": {
    "name": "ipython",
    "version": 3
   },
   "file_extension": ".py",
   "mimetype": "text/x-python",
   "name": "python",
   "nbconvert_exporter": "python",
   "pygments_lexer": "ipython3",
   "version": "3.7.4"
  }
 },
 "nbformat": 4,
 "nbformat_minor": 4
}
