{
 "cells": [
  {
   "cell_type": "code",
   "execution_count": 1,
   "metadata": {},
   "outputs": [],
   "source": [
    "import numpy as np\n",
    "import pandas as pd\n",
    "import matplotlib.pyplot as plt\n",
    "import seaborn as sns\n",
    "import matplotlib\n",
    "import matplotlib.font_manager as fm\n",
    "fm.get_fontconfig_fonts()\n",
    "# font_location = '/usr/share/fonts/truetype/nanum/NanumGothicOTF.ttf'\n",
    "font_location = 'C:\\Windows\\Fonts\\HANBatangB.ttf' # For Windows\n",
    "font_name = fm.FontProperties(fname=font_location).get_name()\n",
    "matplotlib.rc('font', family=font_name)"
   ]
  },
  {
   "cell_type": "code",
   "execution_count": 2,
   "metadata": {},
   "outputs": [],
   "source": [
    "def display_heatmap(df):\n",
    "    plt.figure(figsize=(10, 7))\n",
    "    sns.heatmap(df.corr(),annot=True ,cmap='cubehelix_r')\n",
    "    plt.show()"
   ]
  },
  {
   "cell_type": "code",
   "execution_count": 3,
   "metadata": {},
   "outputs": [],
   "source": [
    "def mask_with_in1d(df, column, val):\n",
    "    mask = np.in1d(df[column].values, [val])\n",
    "    return df[mask]"
   ]
  },
  {
   "cell_type": "code",
   "execution_count": 4,
   "metadata": {},
   "outputs": [],
   "source": [
    "def one_hot(df, cols):\n",
    "    new_df = pd.get_dummies(df, columns=cols)\n",
    "    return new_df"
   ]
  },
  {
   "cell_type": "code",
   "execution_count": 5,
   "metadata": {},
   "outputs": [],
   "source": [
    "def fix_flight(df, i):\n",
    "    if i == 0:\n",
    "        df.drop([\"Unnamed: 0\", \"편명\", \"목적지\",  \"예상\", \"구분\"], axis=1, inplace=True)\n",
    "    else:\n",
    "        df.drop([\"Unnamed: 0\", \"편명\", \"출발지\", \"예상\", \"구분\"], axis=1, inplace=True)"
   ]
  },
  {
   "cell_type": "code",
   "execution_count": 6,
   "metadata": {},
   "outputs": [],
   "source": [
    "def fix_time(df, file_name):\n",
    "    df['time'] = df['계획'].str.split(':').str[0]\n",
    "    df['TM'] = \"\"\n",
    "    for i in range(len(df)):\n",
    "        if len(df['time'][i]) == 1:\n",
    "            df['TM'][i] = str(df['날짜'][i]) + \"0\" + df['time'][i]\n",
    "            print(df['TM'][i])\n",
    "        else:\n",
    "            df['TM'][i] = str(df['날짜'][i]) + df['time'][i]\n",
    "    df.to_csv(\"dataset/FlightCSV/\"+file_name, encoding='utf-8-sig')"
   ]
  },
  {
   "cell_type": "code",
   "execution_count": 7,
   "metadata": {},
   "outputs": [],
   "source": [
    "def fix_weather(df):\n",
    "    df['Date'] = df.TM.apply(lambda x: str(x)[:8])\n",
    "    df['Time'] = df.TM.apply(lambda x: str(x)[8:])"
   ]
  },
  {
   "cell_type": "code",
   "execution_count": 8,
   "metadata": {},
   "outputs": [],
   "source": [
    "def month_slice(df, day, last):\n",
    "    new_df = pd.DataFrame()\n",
    "    for i in range(last):\n",
    "        temp = mask_with_in1d(df, \"날짜\", day)\n",
    "        new_df = pd.concat([new_df, temp], ignore_index=True)\n",
    "        day += 1\n",
    "    return new_df"
   ]
  },
  {
   "cell_type": "code",
   "execution_count": 9,
   "metadata": {},
   "outputs": [],
   "source": [
    "#지연시간 계산\n",
    "def delay_time(df,e):\n",
    "    if e==0:\n",
    "        ename = df.출발\n",
    "    else:\n",
    "        ename = df.도착\n",
    "        \n",
    "    df['sSplit'] = df.계획.apply(lambda x: str(x).split(':'))\n",
    "    df['stemp'] = df.sSplit.apply(lambda x: int(x[0])*60+int(x[1]))\n",
    "        \n",
    "    df['eSplit'] = ename.apply(lambda x: str(x).split(':'))\n",
    "    df['etemp'] = df.eSplit.apply(lambda x: int(x[0])*60 + int(x[1]) if (x[0]!='' and x[1]!='') else None)\n",
    "        \n",
    "    delaytime = list()  \n",
    "    for i in range(len(df)):\n",
    "        if df.etemp[i] != None:\n",
    "            delaytime.append(df.etemp[i]-df.stemp[i])\n",
    "        else:\n",
    "            delaytime.append(None)\n",
    "    \n",
    "    df['delayTime'] = delaytime\n",
    "    df.drop(['sSplit','stemp','eSplit','etemp'], axis=1, inplace=True)"
   ]
  },
  {
   "cell_type": "code",
   "execution_count": 10,
   "metadata": {},
   "outputs": [],
   "source": [
    "#20181001 - 20191001해당 요일 딕셔너리 생성\n",
    "Date = 20181000\n",
    "i = 0\n",
    "count = 0\n",
    "end_date = [31,30,31,31,28,31,30,31,30,31,31,30]\n",
    "weekend = {}\n",
    "\n",
    "while(Date<20190931): \n",
    "    day = Date%100\n",
    "    month = ((Date%10000)-day)/100\n",
    "    year = (Date-(Date%10000))/10000\n",
    "    day = day + 1\n",
    "    if day > end_date[i]:\n",
    "        day = 1\n",
    "        month = month + 1\n",
    "        i = i+1\n",
    "        if month == 13:\n",
    "            year = year + 1\n",
    "            month = 1\n",
    "            day = 1\n",
    "    Date = int((year*10000)+(month*100)+day)\n",
    "    \n",
    "    count = count + 1\n",
    "    if count%7 == 1:\n",
    "        weekend[Date] = \"MON\"\n",
    "    elif count%7 == 2:\n",
    "         weekend[Date] = \"TUE\"\n",
    "    elif count%7 == 3:\n",
    "         weekend[Date] = \"WED\"\n",
    "    elif count%7 == 4:\n",
    "         weekend[Date] = \"THU\"\n",
    "    elif count%7 == 5:\n",
    "         weekend[Date] = \"FRI\"\n",
    "    elif count%7 == 6:\n",
    "         weekend[Date] = \"SAT\"\n",
    "    elif count%7 == 0:\n",
    "         weekend[Date] = \"SUN\""
   ]
  },
  {
   "cell_type": "code",
   "execution_count": 11,
   "metadata": {},
   "outputs": [],
   "source": [
    "def set_weekend(df):\n",
    "    df['weekend'] = df.날짜.apply(lambda x: weekend[x])"
   ]
  },
  {
   "cell_type": "code",
   "execution_count": 12,
   "metadata": {},
   "outputs": [],
   "source": [
    "delay_bins = [-550,-10,0,10,15,20,30,40,50,60,90,120,150,180,210,240,270,300,330,360,390,400]\n",
    "delay_labels = [-1,0,1,2,3,4,5,6,7,8,9,10,11,12,13,14,15,16,17,18,19]\n",
    "def delayBinning(df):\n",
    "    df['DelayRate'] = pd.cut(df['delayTime'], bins=delay_bins, labels=delay_labels)"
   ]
  },
  {
   "cell_type": "code",
   "execution_count": 13,
   "metadata": {},
   "outputs": [],
   "source": [
    "def preprocessing(df):\n",
    "    df.drop(['계획','delayTime'], axis=1, inplace=True)\n",
    "    df.fillna(19, inplace=True)\n",
    "    df = pd.get_dummies(df, columns=['항공사', '현황', 'weekend'])"
   ]
  }
 ],
 "metadata": {
  "kernelspec": {
   "display_name": "Python 3",
   "language": "python",
   "name": "python3"
  },
  "language_info": {
   "codemirror_mode": {
    "name": "ipython",
    "version": 3
   },
   "file_extension": ".py",
   "mimetype": "text/x-python",
   "name": "python",
   "nbconvert_exporter": "python",
   "pygments_lexer": "ipython3",
   "version": "3.7.4"
  }
 },
 "nbformat": 4,
 "nbformat_minor": 4
}
