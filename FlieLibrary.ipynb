{
 "cells": [
  {
   "cell_type": "code",
   "execution_count": 1,
   "metadata": {},
   "outputs": [
    {
     "name": "stdout",
     "output_type": "stream",
     "text": [
      "importing Jupyter notebook from IntimeLibrary.ipynb\n"
     ]
    }
   ],
   "source": [
    "import import_ipynb\n",
    "import pandas as pd\n",
    "import IntimeLibrary as il"
   ]
  },
  {
   "cell_type": "code",
   "execution_count": 2,
   "metadata": {},
   "outputs": [],
   "source": [
    "__df_from_cju = pd.read_csv(\"dataset/SortedCSV/Flight_from_CJU(Sorted).csv\")\n",
    "__df_from_gmp = pd.read_csv(\"dataset/SortedCSV/Flight_from_GMP(Sorted).csv\")\n",
    "__df_to_cju = pd.read_csv(\"dataset/SortedCSV/Flight_to_CJU(Sorted).csv\")\n",
    "__df_to_gmp = pd.read_csv(\"dataset/SortedCSV/Flight_to_GMP(Sorted).csv\")"
   ]
  },
  {
   "cell_type": "code",
   "execution_count": 3,
   "metadata": {},
   "outputs": [],
   "source": [
    "__weather_gmp_10 = pd.read_csv(\"dataset/WeatherCSV/김포공항/RKSS_air_stcs201810.csv\")\n",
    "__weather_cju_10 = pd.read_csv(\"dataset/WeatherCSV/제주공항/RKPC_air_stcs201810.csv\")\n",
    "__weather_gmp_11 = pd.read_csv(\"dataset/WeatherCSV/김포공항/RKSS_air_stcs201811.csv\")\n",
    "__weather_cju_11 = pd.read_csv(\"dataset/WeatherCSV/제주공항/RKPC_air_stcs201811.csv\")\n",
    "__weather_gmp_12 = pd.read_csv(\"dataset/WeatherCSV/김포공항/RKSS_air_stcs201812.csv\")\n",
    "__weather_cju_12 = pd.read_csv(\"dataset/WeatherCSV/제주공항/RKPC_air_stcs201812.csv\")\n",
    "__weather_gmp_01 = pd.read_csv(\"dataset/WeatherCSV/김포공항/RKSS_air_stcs201901.csv\")\n",
    "__weather_cju_01 = pd.read_csv(\"dataset/WeatherCSV/제주공항/RKPC_air_stcs201901.csv\")\n",
    "__weather_gmp_02 = pd.read_csv(\"dataset/WeatherCSV/김포공항/RKSS_air_stcs201902.csv\")\n",
    "__weather_cju_02 = pd.read_csv(\"dataset/WeatherCSV/제주공항/RKPC_air_stcs201902.csv\")\n",
    "__weather_gmp_03 = pd.read_csv(\"dataset/WeatherCSV/김포공항/RKSS_air_stcs201903.csv\")\n",
    "__weather_cju_03 = pd.read_csv(\"dataset/WeatherCSV/제주공항/RKPC_air_stcs201903.csv\")\n",
    "__weather_gmp_04 = pd.read_csv(\"dataset/WeatherCSV/김포공항/RKSS_air_stcs201904.csv\")\n",
    "__weather_cju_04 = pd.read_csv(\"dataset/WeatherCSV/제주공항/RKPC_air_stcs201904.csv\")\n",
    "__weather_gmp_05 = pd.read_csv(\"dataset/WeatherCSV/김포공항/RKSS_air_stcs201905.csv\")\n",
    "__weather_cju_05 = pd.read_csv(\"dataset/WeatherCSV/제주공항/RKPC_air_stcs201905.csv\")\n",
    "__weather_gmp_06 = pd.read_csv(\"dataset/WeatherCSV/김포공항/RKSS_air_stcs201906.csv\")\n",
    "__weather_cju_06 = pd.read_csv(\"dataset/WeatherCSV/제주공항/RKPC_air_stcs201906.csv\")\n",
    "__weather_gmp_07 = pd.read_csv(\"dataset/WeatherCSV/김포공항/RKSS_air_stcs201907.csv\")\n",
    "__weather_cju_07 = pd.read_csv(\"dataset/WeatherCSV/제주공항/RKPC_air_stcs201907.csv\")\n",
    "__weather_gmp_08 = pd.read_csv(\"dataset/WeatherCSV/김포공항/RKSS_air_stcs201908.csv\")\n",
    "__weather_cju_08 = pd.read_csv(\"dataset/WeatherCSV/제주공항/RKPC_air_stcs201908.csv\")"
   ]
  },
  {
   "cell_type": "code",
   "execution_count": 4,
   "metadata": {},
   "outputs": [],
   "source": [
    "weather_cju = [__weather_cju_10,\n",
    "               __weather_cju_11,\n",
    "               __weather_cju_12,\n",
    "               __weather_cju_01,\n",
    "               __weather_cju_02,\n",
    "               __weather_cju_03,\n",
    "               __weather_cju_04,\n",
    "               __weather_cju_05,\n",
    "               __weather_cju_06,\n",
    "               __weather_cju_07,\n",
    "               __weather_cju_08]"
   ]
  },
  {
   "cell_type": "code",
   "execution_count": 5,
   "metadata": {},
   "outputs": [],
   "source": [
    "weather_gmp = [__weather_gmp_10,\n",
    "               __weather_gmp_11,\n",
    "               __weather_gmp_12,\n",
    "               __weather_gmp_01,\n",
    "               __weather_gmp_02,\n",
    "               __weather_gmp_03,\n",
    "               __weather_gmp_04,\n",
    "               __weather_gmp_05,\n",
    "               __weather_gmp_06,\n",
    "               __weather_gmp_07,\n",
    "               __weather_gmp_08]"
   ]
  },
  {
   "cell_type": "code",
   "execution_count": 6,
   "metadata": {},
   "outputs": [],
   "source": [
    "il.fix_flight(__df_from_cju, 0)\n",
    "il.fix_flight(__df_from_gmp, 0)\n",
    "il.fix_flight(__df_to_cju, 1)\n",
    "il.fix_flight(__df_to_gmp, 1)"
   ]
  },
  {
   "cell_type": "code",
   "execution_count": 7,
   "metadata": {},
   "outputs": [],
   "source": [
    "# fix_time(df_from_cju, \"from_cju.csv\")\n",
    "# fix_time(df_from_gmp, \"from_gmp.csv\")\n",
    "# fix_time(df_to_cju, \"to_cju.csv\")\n",
    "# fix_time(df_to_gmp, \"to_gmp.csv\")"
   ]
  },
  {
   "cell_type": "code",
   "execution_count": 8,
   "metadata": {},
   "outputs": [],
   "source": [
    "flight_from_cju = pd.read_csv(\"dataset/FlightCSV/from_cju.csv\")\n",
    "flight_from_cju.drop(\"Unnamed: 0\", axis=1, inplace=True)\n",
    "flight_from_gmp = pd.read_csv(\"dataset/FlightCSV/from_gmp.csv\")\n",
    "flight_from_gmp.drop(\"Unnamed: 0\", axis=1, inplace=True)\n",
    "flight_to_cju = pd.read_csv(\"dataset/FlightCSV/to_cju.csv\")\n",
    "flight_to_cju.drop(\"Unnamed: 0\", axis=1, inplace=True)\n",
    "flight_to_gmp = pd.read_csv(\"dataset/FlightCSV/to_gmp.csv\")\n",
    "flight_to_gmp.drop(\"Unnamed: 0\", axis=1, inplace=True)"
   ]
  },
  {
   "cell_type": "code",
   "execution_count": 9,
   "metadata": {},
   "outputs": [],
   "source": [
    "for i in range(len(weather_cju)):\n",
    "    il.fix_weather(weather_cju[i])\n",
    "    il.fix_weather(weather_gmp[i])"
   ]
  }
 ],
 "metadata": {
  "kernelspec": {
   "display_name": "Python 3",
   "language": "python",
   "name": "python3"
  },
  "language_info": {
   "codemirror_mode": {
    "name": "ipython",
    "version": 3
   },
   "file_extension": ".py",
   "mimetype": "text/x-python",
   "name": "python",
   "nbconvert_exporter": "python",
   "pygments_lexer": "ipython3",
   "version": "3.7.4"
  }
 },
 "nbformat": 4,
 "nbformat_minor": 4
}
