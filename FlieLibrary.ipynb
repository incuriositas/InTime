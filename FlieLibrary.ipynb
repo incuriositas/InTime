{
 "cells": [
  {
   "cell_type": "code",
   "execution_count": 1,
   "metadata": {},
   "outputs": [
    {
     "name": "stdout",
     "output_type": "stream",
     "text": [
      "importing Jupyter notebook from IntimeLibrary.ipynb\n"
     ]
    }
   ],
   "source": [
    "import import_ipynb\n",
    "import pandas as pd\n",
    "import IntimeLibrary as il"
   ]
  },
  {
   "cell_type": "code",
   "execution_count": 2,
   "metadata": {},
   "outputs": [],
   "source": [
    "__df_from_cju = pd.read_csv(\"dataset/SortedCSV/Flight_from_CJU(Sorted).csv\")\n",
    "__df_from_gmp = pd.read_csv(\"dataset/SortedCSV/Flight_from_GMP(Sorted).csv\")\n",
    "__df_to_cju = pd.read_csv(\"dataset/SortedCSV/Flight_to_CJU(Sorted).csv\")\n",
    "__df_to_gmp = pd.read_csv(\"dataset/SortedCSV/Flight_to_GMP(Sorted).csv\")"
   ]
  },
  {
   "cell_type": "code",
   "execution_count": 3,
   "metadata": {},
   "outputs": [],
   "source": [
    "__weather_gmp_10 = pd.read_csv(\"dataset/WeatherCSV/김포공항/RKSS_air_stcs201810.csv\")\n",
    "__weather_cju_10 = pd.read_csv(\"dataset/WeatherCSV/제주공항/RKPC_air_stcs201810.csv\")\n",
    "__weather_gmp_11 = pd.read_csv(\"dataset/WeatherCSV/김포공항/RKSS_air_stcs201811.csv\")\n",
    "__weather_cju_11 = pd.read_csv(\"dataset/WeatherCSV/제주공항/RKPC_air_stcs201811.csv\")\n",
    "__weather_gmp_12 = pd.read_csv(\"dataset/WeatherCSV/김포공항/RKSS_air_stcs201812.csv\")\n",
    "__weather_cju_12 = pd.read_csv(\"dataset/WeatherCSV/제주공항/RKPC_air_stcs201812.csv\")\n",
    "__weather_gmp_01 = pd.read_csv(\"dataset/WeatherCSV/김포공항/RKSS_air_stcs201901.csv\")\n",
    "__weather_cju_01 = pd.read_csv(\"dataset/WeatherCSV/제주공항/RKPC_air_stcs201901.csv\")\n",
    "__weather_gmp_02 = pd.read_csv(\"dataset/WeatherCSV/김포공항/RKSS_air_stcs201902.csv\")\n",
    "__weather_cju_02 = pd.read_csv(\"dataset/WeatherCSV/제주공항/RKPC_air_stcs201902.csv\")\n",
    "__weather_gmp_03 = pd.read_csv(\"dataset/WeatherCSV/김포공항/RKSS_air_stcs201903.csv\")\n",
    "__weather_cju_03 = pd.read_csv(\"dataset/WeatherCSV/제주공항/RKPC_air_stcs201903.csv\")\n",
    "__weather_gmp_04 = pd.read_csv(\"dataset/WeatherCSV/김포공항/RKSS_air_stcs201904.csv\")\n",
    "__weather_cju_04 = pd.read_csv(\"dataset/WeatherCSV/제주공항/RKPC_air_stcs201904.csv\")\n",
    "__weather_gmp_05 = pd.read_csv(\"dataset/WeatherCSV/김포공항/RKSS_air_stcs201905.csv\")\n",
    "__weather_cju_05 = pd.read_csv(\"dataset/WeatherCSV/제주공항/RKPC_air_stcs201905.csv\")\n",
    "__weather_gmp_06 = pd.read_csv(\"dataset/WeatherCSV/김포공항/RKSS_air_stcs201906.csv\")\n",
    "__weather_cju_06 = pd.read_csv(\"dataset/WeatherCSV/제주공항/RKPC_air_stcs201906.csv\")\n",
    "__weather_gmp_07 = pd.read_csv(\"dataset/WeatherCSV/김포공항/RKSS_air_stcs201907.csv\")\n",
    "__weather_cju_07 = pd.read_csv(\"dataset/WeatherCSV/제주공항/RKPC_air_stcs201907.csv\")\n",
    "__weather_gmp_08 = pd.read_csv(\"dataset/WeatherCSV/김포공항/RKSS_air_stcs201908.csv\")\n",
    "__weather_cju_08 = pd.read_csv(\"dataset/WeatherCSV/제주공항/RKPC_air_stcs201908.csv\")"
   ]
  },
  {
   "cell_type": "code",
   "execution_count": 4,
   "metadata": {},
   "outputs": [],
   "source": [
    "weather_cju = [__weather_cju_10,\n",
    "               __weather_cju_11,\n",
    "               __weather_cju_12,\n",
    "               __weather_cju_01,\n",
    "               __weather_cju_02,\n",
    "               __weather_cju_03,\n",
    "               __weather_cju_04,\n",
    "               __weather_cju_05,\n",
    "               __weather_cju_06,\n",
    "               __weather_cju_07,\n",
    "               __weather_cju_08]"
   ]
  },
  {
   "cell_type": "code",
   "execution_count": 5,
   "metadata": {},
   "outputs": [],
   "source": [
    "weather_gmp = [__weather_gmp_10,\n",
    "               __weather_gmp_11,\n",
    "               __weather_gmp_12,\n",
    "               __weather_gmp_01,\n",
    "               __weather_gmp_02,\n",
    "               __weather_gmp_03,\n",
    "               __weather_gmp_04,\n",
    "               __weather_gmp_05,\n",
    "               __weather_gmp_06,\n",
    "               __weather_gmp_07,\n",
    "               __weather_gmp_08]"
   ]
  },
  {
   "cell_type": "code",
   "execution_count": 6,
   "metadata": {},
   "outputs": [],
   "source": [
    "il.fix_flight(__df_from_cju, 0)\n",
    "il.fix_flight(__df_from_gmp, 0)\n",
    "il.fix_flight(__df_to_cju, 1)\n",
    "il.fix_flight(__df_to_gmp, 1)"
   ]
  },
  {
   "cell_type": "code",
   "execution_count": 7,
   "metadata": {},
   "outputs": [],
   "source": [
    "# fix_time(df_from_cju, \"from_cju.csv\")\n",
    "# fix_time(df_from_gmp, \"from_gmp.csv\")\n",
    "# fix_time(df_to_cju, \"to_cju.csv\")\n",
    "# fix_time(df_to_gmp, \"to_gmp.csv\")"
   ]
  },
  {
   "cell_type": "code",
   "execution_count": 8,
   "metadata": {},
   "outputs": [],
   "source": [
    "flight_from_cju = pd.read_csv(\"dataset/FlightCSV/from_cju.csv\")\n",
    "flight_from_cju.drop(\"Unnamed: 0\", axis=1, inplace=True)\n",
    "flight_from_gmp = pd.read_csv(\"dataset/FlightCSV/from_gmp.csv\")\n",
    "flight_from_gmp.drop(\"Unnamed: 0\", axis=1, inplace=True)\n",
    "flight_to_cju = pd.read_csv(\"dataset/FlightCSV/to_cju.csv\")\n",
    "flight_to_cju.drop(\"Unnamed: 0\", axis=1, inplace=True)\n",
    "flight_to_gmp = pd.read_csv(\"dataset/FlightCSV/to_gmp.csv\")\n",
    "flight_to_gmp.drop(\"Unnamed: 0\", axis=1, inplace=True)"
   ]
  },
  {
   "cell_type": "code",
   "execution_count": 9,
   "metadata": {},
   "outputs": [],
   "source": [
    "for i in range(len(weather_cju)):\n",
    "    il.fix_weather(weather_cju[i])\n",
    "    il.fix_weather(weather_gmp[i])"
   ]
  },
  {
   "cell_type": "code",
   "execution_count": 10,
   "metadata": {},
   "outputs": [],
   "source": [
    "il.delay_time(flight_from_cju,0)\n",
    "il.delay_time(flight_to_gmp,1)\n",
    "il.delay_time(flight_from_gmp,0)\n",
    "il.delay_time(flight_to_cju,1)"
   ]
  },
  {
   "cell_type": "code",
   "execution_count": 11,
   "metadata": {},
   "outputs": [],
   "source": [
    "il.set_weekend(flight_from_cju)\n",
    "il.set_weekend(flight_to_gmp)\n",
    "il.set_weekend(flight_from_gmp)\n",
    "il.set_weekend(flight_to_cju)"
   ]
  },
  {
   "cell_type": "code",
   "execution_count": 12,
   "metadata": {},
   "outputs": [],
   "source": [
    "il.delayBinning(flight_from_cju)\n",
    "il.delayBinning(flight_to_gmp)\n",
    "il.delayBinning(flight_from_gmp)\n",
    "il.delayBinning(flight_to_cju)"
   ]
  },
  {
   "cell_type": "code",
   "execution_count": 13,
   "metadata": {},
   "outputs": [],
   "source": [
    "il.preprocessing(flight_from_cju)\n",
    "il.preprocessing(flight_to_gmp)\n",
    "il.preprocessing(flight_from_gmp)\n",
    "il.preprocessing(flight_to_cju)"
   ]
  },
  {
   "cell_type": "code",
   "execution_count": 14,
   "metadata": {},
   "outputs": [],
   "source": [
    "flight_from_cju['ORIGIN'] = \"제주공항\"\n",
    "flight_from_cju['DEST'] = \"김포공항\"\n",
    "flight_to_gmp['ORIGIN'] = \"제주공항\"\n",
    "flight_to_gmp['DEST'] = \"김포공항\"\n",
    "flight_from_gmp['ORIGIN'] = \"김포공항\"\n",
    "flight_from_gmp['DEST'] = \"제주공항\"\n",
    "flight_to_cju['ORIGIN'] = \"김포공항\"\n",
    "flight_to_cju['DEST'] = \"제주공항\""
   ]
  },
  {
   "cell_type": "code",
   "execution_count": 15,
   "metadata": {},
   "outputs": [],
   "source": [
    "y = 0\n",
    "year = ['2018','2019']\n",
    "month=['10','11','12','01','02','03','04','05','06','07','08']\n",
    "end_date = [30,31,31,28,31,30,31,30,31,31,30]\n",
    "flight = [flight_from_cju,flight_to_cju,flight_from_gmp,flight_to_gmp]\n",
    "\n",
    "\n",
    "depart_data = pd.DataFrame()\n",
    "\n",
    "for j in range(2):\n",
    "    for i in range(11):\n",
    "        if i>2:\n",
    "            y = 1\n",
    "        temp = il.month_slice(flight[j], int(year[y]+month[i]+'01'), end_date[i])\n",
    "        temp = temp[temp.DelayRate != -1]\n",
    "        merged_df = pd.merge(temp, weather_cju[i], on=\"TM\")\n",
    "        depart_data = depart_data.append(merged_df, ignore_index = True)\n",
    "        \n",
    "for j in range(2,4):\n",
    "    for i in range(11):\n",
    "        y=0\n",
    "        if i>2:\n",
    "            y = 1\n",
    "        temp = il.month_slice(flight[j], int(year[y]+month[i]+'01'), end_date[i])\n",
    "        temp = temp[temp.DelayRate != -1]\n",
    "        merged_df = pd.merge(temp, weather_gmp[i], on=\"TM\")\n",
    "        depart_data = depart_data.append(merged_df, ignore_index = True)"
   ]
  }
 ],
 "metadata": {
  "kernelspec": {
   "display_name": "Python 3",
   "language": "python",
   "name": "python3"
  },
  "language_info": {
   "codemirror_mode": {
    "name": "ipython",
    "version": 3
   },
   "file_extension": ".py",
   "mimetype": "text/x-python",
   "name": "python",
   "nbconvert_exporter": "python",
   "pygments_lexer": "ipython3",
   "version": "3.7.4"
  }
 },
 "nbformat": 4,
 "nbformat_minor": 4
}
