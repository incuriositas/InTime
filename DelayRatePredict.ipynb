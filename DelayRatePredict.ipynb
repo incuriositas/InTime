{
 "cells": [
  {
   "cell_type": "code",
   "execution_count": 1,
   "metadata": {},
   "outputs": [
    {
     "name": "stdout",
     "output_type": "stream",
     "text": [
      "importing Jupyter notebook from IntimeLibrary.ipynb\n",
      "importing Jupyter notebook from FlieLibrary.ipynb\n"
     ]
    }
   ],
   "source": [
    "import import_ipynb\n",
    "import IntimeLibrary as il\n",
    "import FlieLibrary as fl\n",
    "import pandas as pd\n",
    "import numpy as np"
   ]
  },
  {
   "cell_type": "code",
   "execution_count": 2,
   "metadata": {},
   "outputs": [],
   "source": [
    "fl.depart_flight.drop(['항공사','현황','TM'], axis=1, inplace=True)\n",
    "fl.depart_flight = pd.get_dummies(fl.depart_flight, columns=[\"ORIGIN\",\"DEST\", \"weekend\"])"
   ]
  },
  {
   "cell_type": "code",
   "execution_count": 3,
   "metadata": {},
   "outputs": [
    {
     "data": {
      "text/html": [
       "<div>\n",
       "<style scoped>\n",
       "    .dataframe tbody tr th:only-of-type {\n",
       "        vertical-align: middle;\n",
       "    }\n",
       "\n",
       "    .dataframe tbody tr th {\n",
       "        vertical-align: top;\n",
       "    }\n",
       "\n",
       "    .dataframe thead th {\n",
       "        text-align: right;\n",
       "    }\n",
       "</style>\n",
       "<table border=\"1\" class=\"dataframe\">\n",
       "  <thead>\n",
       "    <tr style=\"text-align: right;\">\n",
       "      <th></th>\n",
       "      <th>날짜</th>\n",
       "      <th>time</th>\n",
       "      <th>DelayRate</th>\n",
       "      <th>ORIGIN_김포공항</th>\n",
       "      <th>ORIGIN_제주공항</th>\n",
       "      <th>DEST_김포공항</th>\n",
       "      <th>DEST_제주공항</th>\n",
       "      <th>weekend_FRI</th>\n",
       "      <th>weekend_MON</th>\n",
       "      <th>weekend_SAT</th>\n",
       "      <th>weekend_SUN</th>\n",
       "      <th>weekend_THU</th>\n",
       "      <th>weekend_TUE</th>\n",
       "      <th>weekend_WED</th>\n",
       "    </tr>\n",
       "  </thead>\n",
       "  <tbody>\n",
       "    <tr>\n",
       "      <td>0</td>\n",
       "      <td>20181001</td>\n",
       "      <td>6</td>\n",
       "      <td>1</td>\n",
       "      <td>0</td>\n",
       "      <td>1</td>\n",
       "      <td>1</td>\n",
       "      <td>0</td>\n",
       "      <td>0</td>\n",
       "      <td>1</td>\n",
       "      <td>0</td>\n",
       "      <td>0</td>\n",
       "      <td>0</td>\n",
       "      <td>0</td>\n",
       "      <td>0</td>\n",
       "    </tr>\n",
       "    <tr>\n",
       "      <td>1</td>\n",
       "      <td>20181001</td>\n",
       "      <td>6</td>\n",
       "      <td>1</td>\n",
       "      <td>0</td>\n",
       "      <td>1</td>\n",
       "      <td>1</td>\n",
       "      <td>0</td>\n",
       "      <td>0</td>\n",
       "      <td>1</td>\n",
       "      <td>0</td>\n",
       "      <td>0</td>\n",
       "      <td>0</td>\n",
       "      <td>0</td>\n",
       "      <td>0</td>\n",
       "    </tr>\n",
       "    <tr>\n",
       "      <td>2</td>\n",
       "      <td>20181001</td>\n",
       "      <td>7</td>\n",
       "      <td>1</td>\n",
       "      <td>0</td>\n",
       "      <td>1</td>\n",
       "      <td>1</td>\n",
       "      <td>0</td>\n",
       "      <td>0</td>\n",
       "      <td>1</td>\n",
       "      <td>0</td>\n",
       "      <td>0</td>\n",
       "      <td>0</td>\n",
       "      <td>0</td>\n",
       "      <td>0</td>\n",
       "    </tr>\n",
       "    <tr>\n",
       "      <td>3</td>\n",
       "      <td>20181001</td>\n",
       "      <td>7</td>\n",
       "      <td>1</td>\n",
       "      <td>0</td>\n",
       "      <td>1</td>\n",
       "      <td>1</td>\n",
       "      <td>0</td>\n",
       "      <td>0</td>\n",
       "      <td>1</td>\n",
       "      <td>0</td>\n",
       "      <td>0</td>\n",
       "      <td>0</td>\n",
       "      <td>0</td>\n",
       "      <td>0</td>\n",
       "    </tr>\n",
       "    <tr>\n",
       "      <td>4</td>\n",
       "      <td>20181001</td>\n",
       "      <td>7</td>\n",
       "      <td>1</td>\n",
       "      <td>0</td>\n",
       "      <td>1</td>\n",
       "      <td>1</td>\n",
       "      <td>0</td>\n",
       "      <td>0</td>\n",
       "      <td>1</td>\n",
       "      <td>0</td>\n",
       "      <td>0</td>\n",
       "      <td>0</td>\n",
       "      <td>0</td>\n",
       "      <td>0</td>\n",
       "    </tr>\n",
       "  </tbody>\n",
       "</table>\n",
       "</div>"
      ],
      "text/plain": [
       "         날짜  time DelayRate  ORIGIN_김포공항  ORIGIN_제주공항  DEST_김포공항  DEST_제주공항  \\\n",
       "0  20181001     6         1            0            1          1          0   \n",
       "1  20181001     6         1            0            1          1          0   \n",
       "2  20181001     7         1            0            1          1          0   \n",
       "3  20181001     7         1            0            1          1          0   \n",
       "4  20181001     7         1            0            1          1          0   \n",
       "\n",
       "   weekend_FRI  weekend_MON  weekend_SAT  weekend_SUN  weekend_THU  \\\n",
       "0            0            1            0            0            0   \n",
       "1            0            1            0            0            0   \n",
       "2            0            1            0            0            0   \n",
       "3            0            1            0            0            0   \n",
       "4            0            1            0            0            0   \n",
       "\n",
       "   weekend_TUE  weekend_WED  \n",
       "0            0            0  \n",
       "1            0            0  \n",
       "2            0            0  \n",
       "3            0            0  \n",
       "4            0            0  "
      ]
     },
     "execution_count": 3,
     "metadata": {},
     "output_type": "execute_result"
    }
   ],
   "source": [
    "fl.depart_flight.head()"
   ]
  },
  {
   "cell_type": "code",
   "execution_count": 4,
   "metadata": {},
   "outputs": [
    {
     "name": "stdout",
     "output_type": "stream",
     "text": [
      "<class 'pandas.core.frame.DataFrame'>\n",
      "RangeIndex: 88631 entries, 0 to 88630\n",
      "Data columns (total 14 columns):\n",
      "날짜             88631 non-null int64\n",
      "time           88631 non-null int64\n",
      "DelayRate      88631 non-null category\n",
      "ORIGIN_김포공항    88631 non-null uint8\n",
      "ORIGIN_제주공항    88631 non-null uint8\n",
      "DEST_김포공항      88631 non-null uint8\n",
      "DEST_제주공항      88631 non-null uint8\n",
      "weekend_FRI    88631 non-null uint8\n",
      "weekend_MON    88631 non-null uint8\n",
      "weekend_SAT    88631 non-null uint8\n",
      "weekend_SUN    88631 non-null uint8\n",
      "weekend_THU    88631 non-null uint8\n",
      "weekend_TUE    88631 non-null uint8\n",
      "weekend_WED    88631 non-null uint8\n",
      "dtypes: category(1), int64(2), uint8(11)\n",
      "memory usage: 2.4 MB\n"
     ]
    }
   ],
   "source": [
    "fl.depart_flight.info()"
   ]
  },
  {
   "cell_type": "code",
   "execution_count": 5,
   "metadata": {},
   "outputs": [],
   "source": [
    "fl.depart_flight[\"DelayRate\"]=fl.depart_flight[\"DelayRate\"].astype(np.int8)"
   ]
  },
  {
   "cell_type": "code",
   "execution_count": 6,
   "metadata": {},
   "outputs": [
    {
     "data": {
      "text/plain": [
       " 1     70435\n",
       " 2     14089\n",
       " 3      2310\n",
       " 4       647\n",
       " 15      597\n",
       " 5       254\n",
       " 0       105\n",
       " 6        77\n",
       " 7        45\n",
       " 8        28\n",
       " 9        17\n",
       "-1        12\n",
       " 10        9\n",
       " 11        3\n",
       " 13        2\n",
       " 12        1\n",
       "Name: DelayRate, dtype: int64"
      ]
     },
     "execution_count": 6,
     "metadata": {},
     "output_type": "execute_result"
    }
   ],
   "source": [
    "fl.depart_flight[\"DelayRate\"].value_counts()"
   ]
  },
  {
   "cell_type": "code",
   "execution_count": 7,
   "metadata": {},
   "outputs": [
    {
     "data": {
      "text/html": [
       "<div>\n",
       "<style scoped>\n",
       "    .dataframe tbody tr th:only-of-type {\n",
       "        vertical-align: middle;\n",
       "    }\n",
       "\n",
       "    .dataframe tbody tr th {\n",
       "        vertical-align: top;\n",
       "    }\n",
       "\n",
       "    .dataframe thead th {\n",
       "        text-align: right;\n",
       "    }\n",
       "</style>\n",
       "<table border=\"1\" class=\"dataframe\">\n",
       "  <thead>\n",
       "    <tr style=\"text-align: right;\">\n",
       "      <th></th>\n",
       "      <th>날짜</th>\n",
       "      <th>time</th>\n",
       "      <th>DelayRate</th>\n",
       "      <th>ORIGIN_김포공항</th>\n",
       "      <th>ORIGIN_제주공항</th>\n",
       "      <th>DEST_김포공항</th>\n",
       "      <th>DEST_제주공항</th>\n",
       "      <th>weekend_FRI</th>\n",
       "      <th>weekend_MON</th>\n",
       "      <th>weekend_SAT</th>\n",
       "      <th>weekend_SUN</th>\n",
       "      <th>weekend_THU</th>\n",
       "      <th>weekend_TUE</th>\n",
       "      <th>weekend_WED</th>\n",
       "    </tr>\n",
       "  </thead>\n",
       "  <tbody>\n",
       "    <tr>\n",
       "      <td>count</td>\n",
       "      <td>8.863100e+04</td>\n",
       "      <td>88631.000000</td>\n",
       "      <td>88631.000000</td>\n",
       "      <td>88631.000000</td>\n",
       "      <td>88631.000000</td>\n",
       "      <td>88631.000000</td>\n",
       "      <td>88631.000000</td>\n",
       "      <td>88631.000000</td>\n",
       "      <td>88631.000000</td>\n",
       "      <td>88631.000000</td>\n",
       "      <td>88631.000000</td>\n",
       "      <td>88631.000000</td>\n",
       "      <td>88631.000000</td>\n",
       "      <td>88631.00000</td>\n",
       "    </tr>\n",
       "    <tr>\n",
       "      <td>mean</td>\n",
       "      <td>2.018817e+07</td>\n",
       "      <td>13.559454</td>\n",
       "      <td>1.350081</td>\n",
       "      <td>0.502465</td>\n",
       "      <td>0.497535</td>\n",
       "      <td>0.497535</td>\n",
       "      <td>0.502465</td>\n",
       "      <td>0.144329</td>\n",
       "      <td>0.145513</td>\n",
       "      <td>0.139748</td>\n",
       "      <td>0.142885</td>\n",
       "      <td>0.140763</td>\n",
       "      <td>0.142862</td>\n",
       "      <td>0.14390</td>\n",
       "    </tr>\n",
       "    <tr>\n",
       "      <td>std</td>\n",
       "      <td>4.087498e+03</td>\n",
       "      <td>4.455421</td>\n",
       "      <td>1.287691</td>\n",
       "      <td>0.499997</td>\n",
       "      <td>0.499997</td>\n",
       "      <td>0.499997</td>\n",
       "      <td>0.499997</td>\n",
       "      <td>0.351425</td>\n",
       "      <td>0.352620</td>\n",
       "      <td>0.346727</td>\n",
       "      <td>0.349957</td>\n",
       "      <td>0.347779</td>\n",
       "      <td>0.349934</td>\n",
       "      <td>0.35099</td>\n",
       "    </tr>\n",
       "    <tr>\n",
       "      <td>min</td>\n",
       "      <td>2.018100e+07</td>\n",
       "      <td>6.000000</td>\n",
       "      <td>-1.000000</td>\n",
       "      <td>0.000000</td>\n",
       "      <td>0.000000</td>\n",
       "      <td>0.000000</td>\n",
       "      <td>0.000000</td>\n",
       "      <td>0.000000</td>\n",
       "      <td>0.000000</td>\n",
       "      <td>0.000000</td>\n",
       "      <td>0.000000</td>\n",
       "      <td>0.000000</td>\n",
       "      <td>0.000000</td>\n",
       "      <td>0.00000</td>\n",
       "    </tr>\n",
       "    <tr>\n",
       "      <td>25%</td>\n",
       "      <td>2.018123e+07</td>\n",
       "      <td>10.000000</td>\n",
       "      <td>1.000000</td>\n",
       "      <td>0.000000</td>\n",
       "      <td>0.000000</td>\n",
       "      <td>0.000000</td>\n",
       "      <td>0.000000</td>\n",
       "      <td>0.000000</td>\n",
       "      <td>0.000000</td>\n",
       "      <td>0.000000</td>\n",
       "      <td>0.000000</td>\n",
       "      <td>0.000000</td>\n",
       "      <td>0.000000</td>\n",
       "      <td>0.00000</td>\n",
       "    </tr>\n",
       "    <tr>\n",
       "      <td>50%</td>\n",
       "      <td>2.019041e+07</td>\n",
       "      <td>14.000000</td>\n",
       "      <td>1.000000</td>\n",
       "      <td>1.000000</td>\n",
       "      <td>0.000000</td>\n",
       "      <td>0.000000</td>\n",
       "      <td>1.000000</td>\n",
       "      <td>0.000000</td>\n",
       "      <td>0.000000</td>\n",
       "      <td>0.000000</td>\n",
       "      <td>0.000000</td>\n",
       "      <td>0.000000</td>\n",
       "      <td>0.000000</td>\n",
       "      <td>0.00000</td>\n",
       "    </tr>\n",
       "    <tr>\n",
       "      <td>75%</td>\n",
       "      <td>2.019070e+07</td>\n",
       "      <td>17.000000</td>\n",
       "      <td>1.000000</td>\n",
       "      <td>1.000000</td>\n",
       "      <td>1.000000</td>\n",
       "      <td>1.000000</td>\n",
       "      <td>1.000000</td>\n",
       "      <td>0.000000</td>\n",
       "      <td>0.000000</td>\n",
       "      <td>0.000000</td>\n",
       "      <td>0.000000</td>\n",
       "      <td>0.000000</td>\n",
       "      <td>0.000000</td>\n",
       "      <td>0.00000</td>\n",
       "    </tr>\n",
       "    <tr>\n",
       "      <td>max</td>\n",
       "      <td>2.019100e+07</td>\n",
       "      <td>21.000000</td>\n",
       "      <td>15.000000</td>\n",
       "      <td>1.000000</td>\n",
       "      <td>1.000000</td>\n",
       "      <td>1.000000</td>\n",
       "      <td>1.000000</td>\n",
       "      <td>1.000000</td>\n",
       "      <td>1.000000</td>\n",
       "      <td>1.000000</td>\n",
       "      <td>1.000000</td>\n",
       "      <td>1.000000</td>\n",
       "      <td>1.000000</td>\n",
       "      <td>1.00000</td>\n",
       "    </tr>\n",
       "  </tbody>\n",
       "</table>\n",
       "</div>"
      ],
      "text/plain": [
       "                 날짜          time     DelayRate   ORIGIN_김포공항   ORIGIN_제주공항  \\\n",
       "count  8.863100e+04  88631.000000  88631.000000  88631.000000  88631.000000   \n",
       "mean   2.018817e+07     13.559454      1.350081      0.502465      0.497535   \n",
       "std    4.087498e+03      4.455421      1.287691      0.499997      0.499997   \n",
       "min    2.018100e+07      6.000000     -1.000000      0.000000      0.000000   \n",
       "25%    2.018123e+07     10.000000      1.000000      0.000000      0.000000   \n",
       "50%    2.019041e+07     14.000000      1.000000      1.000000      0.000000   \n",
       "75%    2.019070e+07     17.000000      1.000000      1.000000      1.000000   \n",
       "max    2.019100e+07     21.000000     15.000000      1.000000      1.000000   \n",
       "\n",
       "          DEST_김포공항     DEST_제주공항   weekend_FRI   weekend_MON   weekend_SAT  \\\n",
       "count  88631.000000  88631.000000  88631.000000  88631.000000  88631.000000   \n",
       "mean       0.497535      0.502465      0.144329      0.145513      0.139748   \n",
       "std        0.499997      0.499997      0.351425      0.352620      0.346727   \n",
       "min        0.000000      0.000000      0.000000      0.000000      0.000000   \n",
       "25%        0.000000      0.000000      0.000000      0.000000      0.000000   \n",
       "50%        0.000000      1.000000      0.000000      0.000000      0.000000   \n",
       "75%        1.000000      1.000000      0.000000      0.000000      0.000000   \n",
       "max        1.000000      1.000000      1.000000      1.000000      1.000000   \n",
       "\n",
       "        weekend_SUN   weekend_THU   weekend_TUE  weekend_WED  \n",
       "count  88631.000000  88631.000000  88631.000000  88631.00000  \n",
       "mean       0.142885      0.140763      0.142862      0.14390  \n",
       "std        0.349957      0.347779      0.349934      0.35099  \n",
       "min        0.000000      0.000000      0.000000      0.00000  \n",
       "25%        0.000000      0.000000      0.000000      0.00000  \n",
       "50%        0.000000      0.000000      0.000000      0.00000  \n",
       "75%        0.000000      0.000000      0.000000      0.00000  \n",
       "max        1.000000      1.000000      1.000000      1.00000  "
      ]
     },
     "execution_count": 7,
     "metadata": {},
     "output_type": "execute_result"
    }
   ],
   "source": [
    "#std : 값이 퍼져있는 정도 - 표준편차\n",
    "#숫자% : 백분위수 - 전체 관측값에서 주어진 백분율이 속하는 하위 부분의 값\n",
    "fl.depart_flight.describe()"
   ]
  },
  {
   "cell_type": "code",
   "execution_count": 8,
   "metadata": {},
   "outputs": [
    {
     "data": {
      "image/png": "[encoded data removed]",
      "text/plain": [
       "<Figure size 1440x1080 with 16 Axes>"
      ]
     },
     "metadata": {
      "needs_background": "light"
     },
     "output_type": "display_data"
    }
   ],
   "source": [
    "#모든 숫자형 특성에 대한 히스토그램\n",
    "%matplotlib inline\n",
    "import matplotlib.pyplot as plt\n",
    "fl.depart_flight.hist(bins=50, figsize=(20,15))\n",
    "plt.show()"
   ]
  },
  {
   "cell_type": "code",
   "execution_count": 9,
   "metadata": {},
   "outputs": [],
   "source": [
    "#테스트 세트 생성\n",
    "def split_flight_test(data, test_ratio):\n",
    "    shuffled_indices = np.random.permutation(len(data))\n",
    "    test_set_size = int(len(data) * test_ratio)\n",
    "    test_indices = shuffled_indices[:test_set_size]\n",
    "    flight_indices = shuffled_indices[test_set_size:]\n",
    "    return data.iloc[flight_indices], data.iloc[test_indices]"
   ]
  },
  {
   "cell_type": "code",
   "execution_count": 10,
   "metadata": {},
   "outputs": [
    {
     "name": "stdout",
     "output_type": "stream",
     "text": [
      "70905 flight + 17726 test\n"
     ]
    }
   ],
   "source": [
    "# 무작위로 샘플 선택하여 데이터셋의 20% 분리\n",
    "# 훈련데이터셋 : 70905개, test데이터셋 : 17726개\n",
    "flight_set, test_set = split_flight_test(fl.depart_flight, 0.2)\n",
    "print(len(flight_set), \"flight +\", len(test_set), \"test\")"
   ]
  },
  {
   "cell_type": "code",
   "execution_count": 11,
   "metadata": {},
   "outputs": [],
   "source": [
    "from sklearn.model_selection import train_test_split\n",
    "flight_set, test_set = train_test_split(fl.depart_flight, test_size=0.2, random_state=42)"
   ]
  },
  {
   "cell_type": "code",
   "execution_count": 12,
   "metadata": {},
   "outputs": [],
   "source": [
    "#계층별로 데이터셋에 충분한 샘플 수가 있어야함 -> 중요도 편향 방지\n",
    "#DelayRate를 1.5로 나누고 6보다 큰 카테고리는 6로 합친다.\n",
    "fl.depart_flight[\"delay\"] = np.ceil(fl.depart_flight[\"DelayRate\"] / 1.5)\n",
    "fl.depart_flight[\"delay\"].where(fl.depart_flight[\"DelayRate\"] < 6, 6.0, inplace=True)"
   ]
  },
  {
   "cell_type": "code",
   "execution_count": 13,
   "metadata": {},
   "outputs": [],
   "source": [
    "#계층별 샘플링\n",
    "from sklearn.model_selection import StratifiedShuffleSplit\n",
    " \n",
    "split = StratifiedShuffleSplit(n_splits=1, test_size=0.2, random_state=42)\n",
    "for flight_index, test_index in split.split(fl.depart_flight, fl.depart_flight[\"delay\"]):\n",
    "    strat_flight_set = fl.depart_flight.loc[flight_index]\n",
    "    strat_test_set = fl.depart_flight.loc[test_index]"
   ]
  },
  {
   "cell_type": "code",
   "execution_count": 14,
   "metadata": {},
   "outputs": [
    {
     "data": {
      "text/plain": [
       "1.0    0.794699\n",
       "2.0    0.185026\n",
       "6.0    0.008789\n",
       "3.0    0.007300\n",
       "4.0    0.002866\n",
       "0.0    0.001320\n",
       "Name: delay, dtype: float64"
      ]
     },
     "execution_count": 14,
     "metadata": {},
     "output_type": "execute_result"
    }
   ],
   "source": [
    "#전체 데이터셋에서 delay카테고리의 비율측정\n",
    "fl.depart_flight[\"delay\"].value_counts() / len(fl.depart_flight)"
   ]
  },
  {
   "cell_type": "code",
   "execution_count": 15,
   "metadata": {},
   "outputs": [],
   "source": [
    "#delay특성 삭제 데이터 원래 상태로 복구\n",
    "for set_ in (strat_flight_set, strat_test_set):\n",
    "    set_.drop(\"delay\", axis=1, inplace=True)"
   ]
  },
  {
   "cell_type": "code",
   "execution_count": 16,
   "metadata": {},
   "outputs": [],
   "source": [
    "#훈련데이터셋 손상 방지 복사본 만들어 사용\n",
    "fl.depart_flight = strat_flight_set.copy()"
   ]
  },
  {
   "cell_type": "code",
   "execution_count": 17,
   "metadata": {},
   "outputs": [
    {
     "data": {
      "text/plain": [
       "<matplotlib.axes._subplots.AxesSubplot at 0x23a33c253c8>"
      ]
     },
     "execution_count": 17,
     "metadata": {},
     "output_type": "execute_result"
    },
    {
     "data": {
      "image/png": "[encoded data removed]",
      "text/plain": [
       "<Figure size 432x288 with 1 Axes>"
      ]
     },
     "metadata": {
      "needs_background": "light"
     },
     "output_type": "display_data"
    }
   ],
   "source": [
    "#데이터 시각화\n",
    "fl.depart_flight.plot(kind=\"scatter\", x='time', y=\"DelayRate\", alpha=0.1)"
   ]
  },
  {
   "cell_type": "code",
   "execution_count": 18,
   "metadata": {},
   "outputs": [
    {
     "name": "stderr",
     "output_type": "stream",
     "text": [
      "c:\\users\\kss09\\appdata\\local\\programs\\python\\python37\\lib\\site-packages\\matplotlib\\collections.py:857: RuntimeWarning: invalid value encountered in sqrt\n",
      "  scale = np.sqrt(self._sizes) * dpi / 72.0 * self._factor\n"
     ]
    },
    {
     "data": {
      "text/plain": [
       "<matplotlib.legend.Legend at 0x23a33c224c8>"
      ]
     },
     "execution_count": 18,
     "metadata": {},
     "output_type": "execute_result"
    },
    {
     "data": {
      "image/png": "[encoded data removed]",
      "text/plain": [
       "<Figure size 720x504 with 2 Axes>"
      ]
     },
     "metadata": {
      "needs_background": "light"
     },
     "output_type": "display_data"
    }
   ],
   "source": [
    "fl.depart_flight.plot(kind=\"scatter\", x=\"time\", y=\"DelayRate\", alpha=0.4,\n",
    "s=fl.depart_flight[\"DelayRate\"]/100, label=\"delayRate\", figsize=(10,7),\n",
    "c=\"time\", cmap=plt.get_cmap(\"jet\"), colorbar=True, sharex=False)\n",
    "plt.legend()"
   ]
  },
  {
   "cell_type": "code",
   "execution_count": 19,
   "metadata": {},
   "outputs": [],
   "source": [
    "#표준상관계수사용하여 상관관계 조사\n",
    "corr_matrix = fl.depart_flight.corr()"
   ]
  },
  {
   "cell_type": "code",
   "execution_count": 20,
   "metadata": {},
   "outputs": [
    {
     "data": {
      "text/plain": [
       "DelayRate      1.000000\n",
       "time           0.108853\n",
       "weekend_FRI    0.040759\n",
       "DEST_김포공항      0.034416\n",
       "ORIGIN_제주공항    0.034416\n",
       "weekend_SAT    0.014913\n",
       "weekend_SUN   -0.000783\n",
       "날짜            -0.005169\n",
       "weekend_THU   -0.006235\n",
       "weekend_TUE   -0.008856\n",
       "weekend_WED   -0.016314\n",
       "weekend_MON   -0.023317\n",
       "DEST_제주공항     -0.034416\n",
       "ORIGIN_김포공항   -0.034416\n",
       "Name: DelayRate, dtype: float64"
      ]
     },
     "execution_count": 20,
     "metadata": {},
     "output_type": "execute_result"
    }
   ],
   "source": [
    "#지연률과 다른 특성 사이의 상관관계 크기가 얼마나 되는지\n",
    "# 1에 가까울 수록 강한 상관관계\n",
    "corr_matrix[\"DelayRate\"].sort_values(ascending=False)"
   ]
  },
  {
   "cell_type": "code",
   "execution_count": 21,
   "metadata": {},
   "outputs": [
    {
     "data": {
      "text/plain": [
       "array([[<matplotlib.axes._subplots.AxesSubplot object at 0x0000023A372EC608>,\n",
       "        <matplotlib.axes._subplots.AxesSubplot object at 0x0000023A3943A188>,\n",
       "        <matplotlib.axes._subplots.AxesSubplot object at 0x0000023A394BA908>],\n",
       "       [<matplotlib.axes._subplots.AxesSubplot object at 0x0000023A394EB348>,\n",
       "        <matplotlib.axes._subplots.AxesSubplot object at 0x0000023A33E6FD48>,\n",
       "        <matplotlib.axes._subplots.AxesSubplot object at 0x0000023A340F8E48>],\n",
       "       [<matplotlib.axes._subplots.AxesSubplot object at 0x0000023A34172EC8>,\n",
       "        <matplotlib.axes._subplots.AxesSubplot object at 0x0000023A341A9FC8>,\n",
       "        <matplotlib.axes._subplots.AxesSubplot object at 0x0000023A341B5BC8>]],\n",
       "      dtype=object)"
      ]
     },
     "execution_count": 21,
     "metadata": {},
     "output_type": "execute_result"
    },
    {
     "data": {
      "image/png": "[encoded data removed]",
      "text/plain": [
       "<Figure size 864x576 with 9 Axes>"
      ]
     },
     "metadata": {
      "needs_background": "light"
     },
     "output_type": "display_data"
    }
   ],
   "source": [
    "#숫자형 특성 사이에 산점도\n",
    "from pandas.plotting import scatter_matrix\n",
    " \n",
    "attributes = [\"time\", \"weekend_FRI\", \"weekend_SAT\"]\n",
    "scatter_matrix(fl.depart_flight[attributes], figsize=(12, 8))"
   ]
  },
  {
   "cell_type": "code",
   "execution_count": 22,
   "metadata": {},
   "outputs": [],
   "source": [
    "depart_flight = strat_flight_set.drop(\"DelayRate\", axis=1)\n",
    "depart_flight_labels = strat_flight_set[\"DelayRate\"].copy()"
   ]
  },
  {
   "cell_type": "code",
   "execution_count": 23,
   "metadata": {},
   "outputs": [
    {
     "data": {
      "text/plain": [
       "LinearRegression(copy_X=True, fit_intercept=True, n_jobs=None, normalize=False)"
      ]
     },
     "execution_count": 23,
     "metadata": {},
     "output_type": "execute_result"
    }
   ],
   "source": [
    "#선형 회귀 모델 훈련\n",
    "from sklearn.linear_model import LinearRegression\n",
    " \n",
    "lin_reg = LinearRegression()\n",
    "lin_reg.fit(depart_flight,depart_flight_labels)"
   ]
  },
  {
   "cell_type": "code",
   "execution_count": 24,
   "metadata": {},
   "outputs": [],
   "source": [
    "#몇개의 샘플 적용\n",
    "some_data = depart_flight.iloc[:5]\n",
    "some_labels = depart_flight_labels.iloc[:5]"
   ]
  },
  {
   "cell_type": "code",
   "execution_count": 25,
   "metadata": {},
   "outputs": [
    {
     "data": {
      "text/html": [
       "<div>\n",
       "<style scoped>\n",
       "    .dataframe tbody tr th:only-of-type {\n",
       "        vertical-align: middle;\n",
       "    }\n",
       "\n",
       "    .dataframe tbody tr th {\n",
       "        vertical-align: top;\n",
       "    }\n",
       "\n",
       "    .dataframe thead th {\n",
       "        text-align: right;\n",
       "    }\n",
       "</style>\n",
       "<table border=\"1\" class=\"dataframe\">\n",
       "  <thead>\n",
       "    <tr style=\"text-align: right;\">\n",
       "      <th></th>\n",
       "      <th>날짜</th>\n",
       "      <th>time</th>\n",
       "      <th>ORIGIN_김포공항</th>\n",
       "      <th>ORIGIN_제주공항</th>\n",
       "      <th>DEST_김포공항</th>\n",
       "      <th>DEST_제주공항</th>\n",
       "      <th>weekend_FRI</th>\n",
       "      <th>weekend_MON</th>\n",
       "      <th>weekend_SAT</th>\n",
       "      <th>weekend_SUN</th>\n",
       "      <th>weekend_THU</th>\n",
       "      <th>weekend_TUE</th>\n",
       "      <th>weekend_WED</th>\n",
       "    </tr>\n",
       "  </thead>\n",
       "  <tbody>\n",
       "    <tr>\n",
       "      <td>60089</td>\n",
       "      <td>20190211</td>\n",
       "      <td>11</td>\n",
       "      <td>1</td>\n",
       "      <td>0</td>\n",
       "      <td>0</td>\n",
       "      <td>1</td>\n",
       "      <td>0</td>\n",
       "      <td>1</td>\n",
       "      <td>0</td>\n",
       "      <td>0</td>\n",
       "      <td>0</td>\n",
       "      <td>0</td>\n",
       "      <td>0</td>\n",
       "    </tr>\n",
       "    <tr>\n",
       "      <td>32268</td>\n",
       "      <td>20190628</td>\n",
       "      <td>20</td>\n",
       "      <td>0</td>\n",
       "      <td>1</td>\n",
       "      <td>1</td>\n",
       "      <td>0</td>\n",
       "      <td>1</td>\n",
       "      <td>0</td>\n",
       "      <td>0</td>\n",
       "      <td>0</td>\n",
       "      <td>0</td>\n",
       "      <td>0</td>\n",
       "      <td>0</td>\n",
       "    </tr>\n",
       "    <tr>\n",
       "      <td>66191</td>\n",
       "      <td>20190406</td>\n",
       "      <td>9</td>\n",
       "      <td>1</td>\n",
       "      <td>0</td>\n",
       "      <td>0</td>\n",
       "      <td>1</td>\n",
       "      <td>0</td>\n",
       "      <td>0</td>\n",
       "      <td>1</td>\n",
       "      <td>0</td>\n",
       "      <td>0</td>\n",
       "      <td>0</td>\n",
       "      <td>0</td>\n",
       "    </tr>\n",
       "    <tr>\n",
       "      <td>63444</td>\n",
       "      <td>20190313</td>\n",
       "      <td>6</td>\n",
       "      <td>1</td>\n",
       "      <td>0</td>\n",
       "      <td>0</td>\n",
       "      <td>1</td>\n",
       "      <td>0</td>\n",
       "      <td>0</td>\n",
       "      <td>0</td>\n",
       "      <td>0</td>\n",
       "      <td>0</td>\n",
       "      <td>0</td>\n",
       "      <td>1</td>\n",
       "    </tr>\n",
       "    <tr>\n",
       "      <td>68307</td>\n",
       "      <td>20190423</td>\n",
       "      <td>15</td>\n",
       "      <td>1</td>\n",
       "      <td>0</td>\n",
       "      <td>0</td>\n",
       "      <td>1</td>\n",
       "      <td>0</td>\n",
       "      <td>0</td>\n",
       "      <td>0</td>\n",
       "      <td>0</td>\n",
       "      <td>0</td>\n",
       "      <td>1</td>\n",
       "      <td>0</td>\n",
       "    </tr>\n",
       "  </tbody>\n",
       "</table>\n",
       "</div>"
      ],
      "text/plain": [
       "             날짜  time  ORIGIN_김포공항  ORIGIN_제주공항  DEST_김포공항  DEST_제주공항  \\\n",
       "60089  20190211    11            1            0          0          1   \n",
       "32268  20190628    20            0            1          1          0   \n",
       "66191  20190406     9            1            0          0          1   \n",
       "63444  20190313     6            1            0          0          1   \n",
       "68307  20190423    15            1            0          0          1   \n",
       "\n",
       "       weekend_FRI  weekend_MON  weekend_SAT  weekend_SUN  weekend_THU  \\\n",
       "60089            0            1            0            0            0   \n",
       "32268            1            0            0            0            0   \n",
       "66191            0            0            1            0            0   \n",
       "63444            0            0            0            0            0   \n",
       "68307            0            0            0            0            0   \n",
       "\n",
       "       weekend_TUE  weekend_WED  \n",
       "60089            0            0  \n",
       "32268            0            0  \n",
       "66191            0            0  \n",
       "63444            0            1  \n",
       "68307            1            0  "
      ]
     },
     "execution_count": 25,
     "metadata": {},
     "output_type": "execute_result"
    }
   ],
   "source": [
    "some_data"
   ]
  },
  {
   "cell_type": "code",
   "execution_count": 26,
   "metadata": {},
   "outputs": [
    {
     "data": {
      "text/plain": [
       "60089    1\n",
       "32268    1\n",
       "66191    1\n",
       "63444    1\n",
       "68307    1\n",
       "Name: DelayRate, dtype: int8"
      ]
     },
     "execution_count": 26,
     "metadata": {},
     "output_type": "execute_result"
    }
   ],
   "source": [
    "#실제 DelayRate\n",
    "some_labels"
   ]
  },
  {
   "cell_type": "code",
   "execution_count": 27,
   "metadata": {},
   "outputs": [
    {
     "data": {
      "text/plain": [
       "array([1.17380119, 1.69170604, 1.23404215, 1.0457645 , 1.3403484 ])"
      ]
     },
     "execution_count": 27,
     "metadata": {},
     "output_type": "execute_result"
    }
   ],
   "source": [
    "#예측 DelayRate\n",
    "#각각 약 0.3,0.2,0.6,0.1,0.2 오차률을 보임\n",
    "lin_reg.predict(some_data)"
   ]
  },
  {
   "cell_type": "code",
   "execution_count": 28,
   "metadata": {},
   "outputs": [
    {
     "data": {
      "text/plain": [
       "[1, 1, 1, 1, 1]"
      ]
     },
     "execution_count": 28,
     "metadata": {},
     "output_type": "execute_result"
    }
   ],
   "source": [
    "list(some_labels)"
   ]
  },
  {
   "cell_type": "code",
   "execution_count": 29,
   "metadata": {},
   "outputs": [
    {
     "data": {
      "text/plain": [
       "1.2791958372721743"
      ]
     },
     "execution_count": 29,
     "metadata": {},
     "output_type": "execute_result"
    }
   ],
   "source": [
    "#회귀 모델의 RMSE\n",
    "#예측 오차 1.3\n",
    "from sklearn.metrics import mean_squared_error\n",
    "flight_delay_predictions = lin_reg.predict(depart_flight)\n",
    "lin_mse = mean_squared_error(depart_flight_labels, flight_delay_predictions)\n",
    "lin_rmse = np.sqrt(lin_mse)\n",
    "lin_rmse"
   ]
  },
  {
   "cell_type": "code",
   "execution_count": 30,
   "metadata": {},
   "outputs": [
    {
     "data": {
      "text/plain": [
       "DecisionTreeRegressor(criterion='mse', max_depth=None, max_features=None,\n",
       "                      max_leaf_nodes=None, min_impurity_decrease=0.0,\n",
       "                      min_impurity_split=None, min_samples_leaf=1,\n",
       "                      min_samples_split=2, min_weight_fraction_leaf=0.0,\n",
       "                      presort=False, random_state=None, splitter='best')"
      ]
     },
     "execution_count": 30,
     "metadata": {},
     "output_type": "execute_result"
    }
   ],
   "source": [
    "#DecisionTreeRegressor\n",
    "from sklearn.tree import DecisionTreeRegressor\n",
    " \n",
    "tree_reg = DecisionTreeRegressor()\n",
    "tree_reg.fit(depart_flight, depart_flight_labels)"
   ]
  },
  {
   "cell_type": "code",
   "execution_count": 31,
   "metadata": {},
   "outputs": [
    {
     "data": {
      "text/plain": [
       "0.815349756727975"
      ]
     },
     "execution_count": 31,
     "metadata": {},
     "output_type": "execute_result"
    }
   ],
   "source": [
    "#예측 오차 : 0.8\n",
    "depart_flight_predictions = tree_reg.predict(depart_flight)\n",
    "tree_mse = mean_squared_error(depart_flight_labels, depart_flight_predictions)\n",
    "tree_rmse = np.sqrt(tree_mse)\n",
    "tree_rmse"
   ]
  },
  {
   "cell_type": "code",
   "execution_count": 32,
   "metadata": {},
   "outputs": [],
   "source": [
    "#k-fold cross-validation\n",
    "from sklearn.model_selection import cross_val_score\n",
    "scores = cross_val_score(tree_reg, depart_flight, depart_flight_labels, scoring=\"neg_mean_squared_error\", cv=10)\n",
    "tree_rmse_scores = np.sqrt(-scores)"
   ]
  },
  {
   "cell_type": "code",
   "execution_count": 33,
   "metadata": {},
   "outputs": [],
   "source": [
    "def display_scores(scores):\n",
    "    print(\"Scores:\", scores)\n",
    "    print(\"Mean:\", scores.mean())\n",
    "    print(\"Standard deviation:\", scores.std())"
   ]
  },
  {
   "cell_type": "code",
   "execution_count": 34,
   "metadata": {},
   "outputs": [
    {
     "name": "stdout",
     "output_type": "stream",
     "text": [
      "Scores: [0.93018564 0.96069514 0.99919267 1.04375364 0.95616705 1.00337828\n",
      " 0.90973822 0.95018623 1.05784266 1.06121668]\n",
      "Mean: 0.9872356209974107\n",
      "Standard deviation: 0.051341261542758816\n"
     ]
    }
   ],
   "source": [
    "#결정트리 점수 : 평균 0.98 +- 0.05 사이\n",
    "display_scores(tree_rmse_scores)"
   ]
  },
  {
   "cell_type": "code",
   "execution_count": 35,
   "metadata": {},
   "outputs": [
    {
     "name": "stdout",
     "output_type": "stream",
     "text": [
      "Scores: [1.28100158 1.27596138 1.2856383  1.28848626 1.24349684 1.24641849\n",
      " 1.09139699 1.24981887 1.37657179 1.427603  ]\n",
      "Mean: 1.2766393486094594\n",
      "Standard deviation: 0.08370372225200695\n"
     ]
    }
   ],
   "source": [
    "#선형 회귀 모델 점수 : 평균  1.28 +-0.08 사이\n",
    "lin_scores = cross_val_score(lin_reg, depart_flight, depart_flight_labels, scoring=\"neg_mean_squared_error\", cv=10)\n",
    "\n",
    "lin_rmse_scores = np.sqrt(-lin_scores)\n",
    "display_scores(lin_rmse_scores)"
   ]
  },
  {
   "cell_type": "code",
   "execution_count": 36,
   "metadata": {},
   "outputs": [
    {
     "name": "stderr",
     "output_type": "stream",
     "text": [
      "c:\\users\\kss09\\appdata\\local\\programs\\python\\python37\\lib\\site-packages\\sklearn\\ensemble\\forest.py:245: FutureWarning: The default value of n_estimators will change from 10 in version 0.20 to 100 in 0.22.\n",
      "  \"10 in version 0.20 to 100 in 0.22.\", FutureWarning)\n"
     ]
    },
    {
     "data": {
      "text/plain": [
       "0.815349756727975"
      ]
     },
     "execution_count": 36,
     "metadata": {},
     "output_type": "execute_result"
    }
   ],
   "source": [
    "#랜덤 포레스트\n",
    "#훈련 세트에 대한 점수 : 0.8\n",
    "from sklearn.ensemble import RandomForestRegressor\n",
    "forest_reg = RandomForestRegressor()\n",
    "forest_reg.fit(depart_flight, depart_flight_labels)\n",
    "forest_mse = mean_squared_error(depart_flight_labels, depart_flight_predictions)\n",
    "forest_rmse = np.sqrt(forest_mse)\n",
    "forest_rmse"
   ]
  },
  {
   "cell_type": "code",
   "execution_count": 37,
   "metadata": {},
   "outputs": [
    {
     "name": "stdout",
     "output_type": "stream",
     "text": [
      "Scores: [1.28100158 1.27596138 1.2856383  1.28848626 1.24349684 1.24641849\n",
      " 1.09139699 1.24981887 1.37657179 1.427603  ]\n",
      "Mean: 1.2766393486094594\n",
      "Standard deviation: 0.08370372225200695\n"
     ]
    }
   ],
   "source": [
    "#랜덤포레스트 모델 점수 : 평균 1.2 +- 0.08 사이\n",
    "forest_scores = cross_val_score(forest_reg, depart_flight, depart_flight_labels, scoring=\"neg_mean_squared_error\", cv=10)\n",
    "\n",
    "forest_rmse_scores = np.sqrt(-lin_scores)\n",
    "display_scores(forest_rmse_scores)"
   ]
  }
 ],
 "metadata": {
  "kernelspec": {
   "display_name": "Python 3",
   "language": "python",
   "name": "python3"
  },
  "language_info": {
   "codemirror_mode": {
    "name": "ipython",
    "version": 3
   },
   "file_extension": ".py",
   "mimetype": "text/x-python",
   "name": "python",
   "nbconvert_exporter": "python",
   "pygments_lexer": "ipython3",
   "version": "3.7.4"
  }
 },
 "nbformat": 4,
 "nbformat_minor": 4
}
