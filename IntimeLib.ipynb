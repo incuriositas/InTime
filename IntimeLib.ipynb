{
 "cells": [
  {
   "cell_type": "code",
   "execution_count": 1,
   "metadata": {},
   "outputs": [],
   "source": [
    "import numpy as np\n",
    "import pandas as pd\n",
    "import matplotlib.pyplot as plt\n",
    "import seaborn as sns"
   ]
  },
  {
   "cell_type": "code",
   "execution_count": 2,
   "metadata": {},
   "outputs": [],
   "source": [
    "def mask_with_in1d(df, column, val):\n",
    "    mask = np.in1d(df[column].values, [val])\n",
    "    return df[mask]"
   ]
  },
  {
   "cell_type": "code",
   "execution_count": 3,
   "metadata": {},
   "outputs": [],
   "source": [
    "def one_hot(df, cols):\n",
    "    new_df = pd.get_dummies(df, columns=cols)\n",
    "    return new_df"
   ]
  },
  {
   "cell_type": "code",
   "execution_count": 4,
   "metadata": {},
   "outputs": [],
   "source": [
    "def fix_flight(df, i):\n",
    "    if i == 0:\n",
    "        df.drop([\"Unnamed: 0\", \"편명\", \"목적지\",  \"예상\", \"구분\"], axis=1, inplace=True)\n",
    "    else:\n",
    "        df.drop([\"Unnamed: 0\", \"편명\", \"출발지\", \"예상\", \"구분\"], axis=1, inplace=True)"
   ]
  },
  {
   "cell_type": "code",
   "execution_count": 5,
   "metadata": {},
   "outputs": [],
   "source": [
    "def fix_time(df):\n",
    "    df['time'] = df['계획'].str.split(':').str[0]"
   ]
  },
  {
   "cell_type": "code",
   "execution_count": 6,
   "metadata": {},
   "outputs": [],
   "source": [
    "def fix_weather(df):\n",
    "    df['Date'] = df.TM.apply(lambda x: str(x)[:8])\n",
    "    df['Time'] = df.TM.apply(lambda x: str(x)[8:])"
   ]
  },
  {
   "cell_type": "code",
   "execution_count": 7,
   "metadata": {},
   "outputs": [],
   "source": [
    "df_from_cju = pd.read_csv(\"dataset/SortedCSV/Flight_from_CJU(Sorted).csv\")\n",
    "df_from_gmp = pd.read_csv(\"dataset/SortedCSV/Flight_from_GMP(Sorted).csv\")\n",
    "df_to_cju = pd.read_csv(\"dataset/SortedCSV/Flight_to_CJU(Sorted).csv\")\n",
    "df_to_gmp = pd.read_csv(\"dataset/SortedCSV/Flight_to_GMP(Sorted).csv\")"
   ]
  },
  {
   "cell_type": "code",
   "execution_count": 8,
   "metadata": {},
   "outputs": [],
   "source": [
    "weather_gmp_10 = pd.read_csv(\"dataset/WeatherCSV/김포공항/RKSS_air_stcs201810.csv\")\n",
    "weather_cju_10 = pd.read_csv(\"dataset/WeatherCSV/제주공항/RKPC_air_stcs201810.csv\")\n",
    "weather_gmp_11 = pd.read_csv(\"dataset/WeatherCSV/김포공항/RKSS_air_stcs201811.csv\")\n",
    "weather_cju_11 = pd.read_csv(\"dataset/WeatherCSV/제주공항/RKPC_air_stcs201811.csv\")\n",
    "weather_gmp_12 = pd.read_csv(\"dataset/WeatherCSV/김포공항/RKSS_air_stcs201812.csv\")\n",
    "weather_cju_12 = pd.read_csv(\"dataset/WeatherCSV/제주공항/RKPC_air_stcs201812.csv\")\n",
    "weather_gmp_01 = pd.read_csv(\"dataset/WeatherCSV/김포공항/RKSS_air_stcs201901.csv\")\n",
    "weather_cju_01 = pd.read_csv(\"dataset/WeatherCSV/제주공항/RKPC_air_stcs201901.csv\")\n",
    "weather_gmp_02 = pd.read_csv(\"dataset/WeatherCSV/김포공항/RKSS_air_stcs201902.csv\")\n",
    "weather_cju_02 = pd.read_csv(\"dataset/WeatherCSV/제주공항/RKPC_air_stcs201902.csv\")\n",
    "weather_gmp_03 = pd.read_csv(\"dataset/WeatherCSV/김포공항/RKSS_air_stcs201903.csv\")\n",
    "weather_cju_03 = pd.read_csv(\"dataset/WeatherCSV/제주공항/RKPC_air_stcs201903.csv\")\n",
    "weather_gmp_04 = pd.read_csv(\"dataset/WeatherCSV/김포공항/RKSS_air_stcs201904.csv\")\n",
    "weather_cju_04 = pd.read_csv(\"dataset/WeatherCSV/제주공항/RKPC_air_stcs201904.csv\")\n",
    "weather_gmp_05 = pd.read_csv(\"dataset/WeatherCSV/김포공항/RKSS_air_stcs201905.csv\")\n",
    "weather_cju_05 = pd.read_csv(\"dataset/WeatherCSV/제주공항/RKPC_air_stcs201905.csv\")\n",
    "weather_gmp_06 = pd.read_csv(\"dataset/WeatherCSV/김포공항/RKSS_air_stcs201906.csv\")\n",
    "weather_cju_06 = pd.read_csv(\"dataset/WeatherCSV/제주공항/RKPC_air_stcs201906.csv\")\n",
    "weather_gmp_07 = pd.read_csv(\"dataset/WeatherCSV/김포공항/RKSS_air_stcs201907.csv\")\n",
    "weather_cju_07 = pd.read_csv(\"dataset/WeatherCSV/제주공항/RKPC_air_stcs201907.csv\")\n",
    "weather_gmp_08 = pd.read_csv(\"dataset/WeatherCSV/김포공항/RKSS_air_stcs201908.csv\")\n",
    "weather_cju_08 = pd.read_csv(\"dataset/WeatherCSV/제주공항/RKPC_air_stcs201908.csv\")"
   ]
  },
  {
   "cell_type": "code",
   "execution_count": 9,
   "metadata": {},
   "outputs": [],
   "source": [
    "fix_flight(df_from_cju, 0)\n",
    "fix_flight(df_from_gmp, 0)\n",
    "fix_flight(df_to_cju, 1)\n",
    "fix_flight(df_to_gmp, 1)"
   ]
  },
  {
   "cell_type": "code",
   "execution_count": 10,
   "metadata": {},
   "outputs": [],
   "source": [
    "fix_time(df_from_cju)\n",
    "fix_time(df_from_gmp)\n",
    "fix_time(df_to_cju)\n",
    "fix_time(df_to_gmp)"
   ]
  },
  {
   "cell_type": "code",
   "execution_count": 11,
   "metadata": {},
   "outputs": [],
   "source": [
    "fix_weather(weather_gmp_10)\n",
    "fix_weather(weather_cju_10)\n",
    "fix_weather(weather_gmp_11)\n",
    "fix_weather(weather_cju_11)\n",
    "fix_weather(weather_gmp_12)\n",
    "fix_weather(weather_cju_12)\n",
    "fix_weather(weather_gmp_01)\n",
    "fix_weather(weather_cju_01)\n",
    "fix_weather(weather_gmp_02)\n",
    "fix_weather(weather_cju_02)\n",
    "fix_weather(weather_gmp_03)\n",
    "fix_weather(weather_cju_03)\n",
    "fix_weather(weather_gmp_04)\n",
    "fix_weather(weather_cju_04)\n",
    "fix_weather(weather_gmp_05)\n",
    "fix_weather(weather_cju_05)\n",
    "fix_weather(weather_gmp_06)\n",
    "fix_weather(weather_cju_06)\n",
    "fix_weather(weather_gmp_07)\n",
    "fix_weather(weather_cju_07)\n",
    "fix_weather(weather_gmp_08)\n",
    "fix_weather(weather_cju_08)"
   ]
  }
 ],
 "metadata": {
  "kernelspec": {
   "display_name": "Python 3",
   "language": "python",
   "name": "python3"
  },
  "language_info": {
   "codemirror_mode": {
    "name": "ipython",
    "version": 3
   },
   "file_extension": ".py",
   "mimetype": "text/x-python",
   "name": "python",
   "nbconvert_exporter": "python",
   "pygments_lexer": "ipython3",
   "version": "3.7.4"
  }
 },
 "nbformat": 4,
 "nbformat_minor": 4
}
