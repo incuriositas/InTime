{
 "cells": [
  {
   "cell_type": "code",
   "execution_count": 1,
   "metadata": {},
   "outputs": [
    {
     "name": "stderr",
     "output_type": "stream",
     "text": [
      "c:\\users\\kss09\\appdata\\local\\programs\\python\\python37\\lib\\site-packages\\sklearn\\externals\\joblib\\__init__.py:15: DeprecationWarning: sklearn.externals.joblib is deprecated in 0.21 and will be removed in 0.23. Please import this functionality directly from joblib, which can be installed with: pip install joblib. If this warning is raised when loading pickled models, you may need to re-serialize those models with scikit-learn 0.21+.\n",
      "  warnings.warn(msg, category=DeprecationWarning)\n"
     ]
    }
   ],
   "source": [
    "import pandas as pd\n",
    "import pickle\n",
    "from sklearn.externals import joblib"
   ]
  },
  {
   "cell_type": "code",
   "execution_count": 2,
   "metadata": {},
   "outputs": [],
   "source": [
    "from_pk = joblib.load('intime.pkl')"
   ]
  },
  {
   "cell_type": "code",
   "execution_count": 23,
   "metadata": {},
   "outputs": [],
   "source": [
    "import urllib\n",
    "import json\n",
    "from datetime import datetime \n",
    "now = datetime.now()\n",
    "\n",
    "def getWeather(origin, day, time):\n",
    "\n",
    "    if origin == 'jeju':\n",
    "        originName = 'jeju,kr'\n",
    "    elif origin == 'gmp':\n",
    "        originName = 'seoul,kr'\n",
    "    else:\n",
    "        print(\"출발지를 입력 오류\")\n",
    "           \n",
    "    wind_dir = 0\n",
    "    temp = 22.5\n",
    "    num = 0\n",
    "    \n",
    "    if day == now.day: \n",
    "        num = time-1\n",
    "    else:\n",
    "        num = 24-now.hour + 24*(day-now.day-1) + time -1\n",
    "\n",
    "    request = 서비스키 입력\n",
    "    res = request['response']\n",
    "    periods = res[0]['periods']\n",
    "\n",
    "    if request['success']:\n",
    "        print(periods[num]['dateTimeISO'])\n",
    "        TMP = periods[num]['avgTempC']*10\n",
    "        CA_TOT = periods[num]['sky']\n",
    "        TD = periods[num]['dewpointC']*10\n",
    "        WSPD = periods[num]['windSpeedKTS']\n",
    "        wind_dir = periods[num]['windDirDEG']\n",
    "        for i in range(2,16):\n",
    "            if wind_dir < 22.5:\n",
    "                wind_dir = 0\n",
    "            elif temp*(i-1) <= wind_dir and wind_dir < (temp * i):\n",
    "                wind_dir = i\n",
    "                break\n",
    "        WD = wind_dir\n",
    "        PA = periods[num]['pressureMB']*10\n",
    "    else:\n",
    "        print(\"An error occurred: %s\" % (json['error']['description']))\n",
    "        request.close()\n",
    "    return [TMP,CA_TOT,TD,WSPD,WD,PA]"
   ]
  },
  {
   "cell_type": "code",
   "execution_count": 27,
   "metadata": {},
   "outputs": [
    {
     "name": "stdout",
     "output_type": "stream",
     "text": [
      "2019-11-04T15:00:00+09:00\n"
     ]
    }
   ],
   "source": [
    "weather = getWeather('jeju',4,15)"
   ]
  },
  {
   "cell_type": "code",
   "execution_count": 28,
   "metadata": {},
   "outputs": [],
   "source": [
    "def predict_delay(year, month, day, hour, weekend, airport, origin, destination, weather):\n",
    "    \n",
    "    input = [{'CA_TOT': weather[1],\n",
    "              'Date': year*10000+month*100+day,\n",
    "              'PA' : weather[5],\n",
    "              'TD': weather[2],\n",
    "              'TMP' : weather[0],\n",
    "              'Time': hour,\n",
    "              'WD' : weather[4],              \n",
    "              'WSPD': weather[3],\n",
    "              '항공사_대한항공': 1 if airport == '대한항공' else 0,\n",
    "              '항공사_아시아나항공': 1 if airport == '아시아나항공' else 0,\n",
    "              '항공사_에어부산': 1 if airport == \"에어부산\" else 0,\n",
    "              '항공사_에어필립': 1 if airport == '에어필립' else 0,\n",
    "              '항공사_이스타항공': 1 if airport == '이스타항공' else 0,\n",
    "              '항공사_제주항공': 1 if airport == '제주항공' else 0,\n",
    "              '항공사_진에어': 1 if airport == '진에어' else 0,\n",
    "              '항공사_티웨이항공': 1 if airport == '티웨이항공' else 0,\n",
    "              'ORIGIN_김포공항': 1 if origin == '김포' else 0,\n",
    "              'ORIGIN_제주공항': 1 if origin == '제주' else 0,\n",
    "              'DEST_김포공항': 1 if destination == '김포' else 0,\n",
    "              'DEST_제주공항': 1 if destination == '제주' else 0,\n",
    "              'weekend_FRI': 1 if weekend == '금' else 0,\n",
    "              'weekend_MON': 1 if weekend == '월' else 0,\n",
    "              'weekend_SAT': 1 if weekend == '토' else 0,\n",
    "              'weekend_SUN': 1 if weekend == '일' else 0,\n",
    "              'weekend_THU': 1 if weekend == '목' else 0,\n",
    "              'weekend_TUE': 1 if weekend == '화' else 0,\n",
    "              'weekend_WED': 1 if weekend == '수' else 0, \n",
    "            }]\n",
    "    return from_pk.predict(pd.DataFrame(input))[0]"
   ]
  },
  {
   "cell_type": "code",
   "execution_count": 29,
   "metadata": {},
   "outputs": [
    {
     "name": "stdout",
     "output_type": "stream",
     "text": [
      "최대 20분 지연될 것으로 예상됩니다.\n"
     ]
    }
   ],
   "source": [
    "import math\n",
    "delayRate = round(predict_delay(2019,11,4,19,'목', '아시아나항공','제주', '김포', weather))\n",
    "\n",
    "\n",
    "if delayRate == 0:\n",
    "    print(\"지연이 없을 것으로 예상됩니다.\")\n",
    "elif delayRate == 1:\n",
    "    print(\"최대 10분 지연될 것으로 예상됩니다.\")\n",
    "elif delayRate == 2:\n",
    "    print(\"최대 15분 지연될 것으로 예상됩니다.\")\n",
    "elif delayRate == 3:\n",
    "    print(\"최대 20분 지연될 것으로 예상됩니다.\")\n",
    "elif delayRate == 4:\n",
    "    print(\"최대 30분 지연될 것으로 예상됩니다.\")\n",
    "elif delayRate == 5:\n",
    "    print(\"최대 40분 지연될 것으로 예상됩니다.\")\n",
    "elif delayRate == 6:\n",
    "    print(\"최대 50분 지연될 것으로 예상됩니다.\")\n",
    "elif delayRate == 7:\n",
    "    print(\"최대 1시간 지연될 것으로 예상됩니다.\")\n",
    "else:\n",
    "    print(\"1시간 이상 지연될 것으로 예상됩니다.\")"
   ]
  },
  {
   "cell_type": "code",
   "execution_count": null,
   "metadata": {},
   "outputs": [],
   "source": []
  }
 ],
 "metadata": {
  "kernelspec": {
   "display_name": "Python 3",
   "language": "python",
   "name": "python3"
  },
  "language_info": {
   "codemirror_mode": {
    "name": "ipython",
    "version": 3
   },
   "file_extension": ".py",
   "mimetype": "text/x-python",
   "name": "python",
   "nbconvert_exporter": "python",
   "pygments_lexer": "ipython3",
   "version": "3.7.4"
  }
 },
 "nbformat": 4,
 "nbformat_minor": 4
}
